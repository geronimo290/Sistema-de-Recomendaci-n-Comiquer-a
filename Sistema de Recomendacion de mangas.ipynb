{
 "cells": [
  {
   "cell_type": "code",
   "execution_count": null,
   "id": "8c6277d2",
   "metadata": {},
   "outputs": [],
   "source": [
    "#-----------------------------------#\n",
    "# Importar librerias y cargar datos #\n",
    "#-----------------------------------#\n",
    "\n",
    "import pandas as pd\n",
    "import numpy as np\n",
    "import matplotlib.pyplot as plt\n",
    "import seaborn as sns\n",
    "import warnings\n",
    "from sklearn.feature_extraction.text import TfidfVectorizer\n",
    "from sklearn.metrics.pairwise import cosine_similarity\n",
    "from sklearn.cluster import KMeans\n",
    "from tensorflow import keras\n",
    "from tensorflow.keras import layers\n",
    "\n",
    "# Ignoramos warnings para una salida más limpia\n",
    "import warnings\n",
    "warnings.filterwarnings(\"ignore\")\n",
    "\n",
    "# Definir el estilo visual delos graficos\n",
    "sns.set_style(\"whitegrid\")\n",
    "\n",
    "# Cargar el dataset\n",
    "df_original = pd.read_csv(\"manga.csv\")\n",
    "df = df_original.copy()\n",
    "\n",
    "print(\"===== Dataset cargado correctamente =====\")"
   ]
  },
  {
   "cell_type": "code",
   "execution_count": null,
   "id": "3eac26ac",
   "metadata": {},
   "outputs": [
    {
     "name": "stdout",
     "output_type": "stream",
     "text": [
      "===== Primeras filas del dataframe =====\n"
     ]
    },
    {
     "data": {
      "application/vnd.microsoft.datawrangler.viewer.v0+json": {
       "columns": [
        {
         "name": "index",
         "rawType": "int64",
         "type": "integer"
        },
        {
         "name": "manga_id",
         "rawType": "int64",
         "type": "integer"
        },
        {
         "name": "title",
         "rawType": "object",
         "type": "string"
        },
        {
         "name": "type",
         "rawType": "object",
         "type": "string"
        },
        {
         "name": "score",
         "rawType": "float64",
         "type": "float"
        },
        {
         "name": "scored_by",
         "rawType": "int64",
         "type": "integer"
        },
        {
         "name": "status",
         "rawType": "object",
         "type": "string"
        },
        {
         "name": "volumes",
         "rawType": "float64",
         "type": "float"
        },
        {
         "name": "chapters",
         "rawType": "float64",
         "type": "float"
        },
        {
         "name": "start_date",
         "rawType": "object",
         "type": "string"
        },
        {
         "name": "end_date",
         "rawType": "object",
         "type": "unknown"
        },
        {
         "name": "members",
         "rawType": "int64",
         "type": "integer"
        },
        {
         "name": "favorites",
         "rawType": "int64",
         "type": "integer"
        },
        {
         "name": "sfw",
         "rawType": "bool",
         "type": "boolean"
        },
        {
         "name": "approved",
         "rawType": "bool",
         "type": "boolean"
        },
        {
         "name": "created_at_before",
         "rawType": "object",
         "type": "string"
        },
        {
         "name": "updated_at",
         "rawType": "object",
         "type": "string"
        },
        {
         "name": "real_start_date",
         "rawType": "object",
         "type": "string"
        },
        {
         "name": "real_end_date",
         "rawType": "object",
         "type": "unknown"
        },
        {
         "name": "genres",
         "rawType": "object",
         "type": "string"
        },
        {
         "name": "themes",
         "rawType": "object",
         "type": "string"
        },
        {
         "name": "demographics",
         "rawType": "object",
         "type": "string"
        },
        {
         "name": "authors",
         "rawType": "object",
         "type": "string"
        },
        {
         "name": "serializations",
         "rawType": "object",
         "type": "string"
        },
        {
         "name": "synopsis",
         "rawType": "object",
         "type": "string"
        },
        {
         "name": "background",
         "rawType": "object",
         "type": "string"
        },
        {
         "name": "main_picture",
         "rawType": "object",
         "type": "string"
        },
        {
         "name": "url",
         "rawType": "object",
         "type": "string"
        },
        {
         "name": "title_english",
         "rawType": "object",
         "type": "unknown"
        },
        {
         "name": "title_japanese",
         "rawType": "object",
         "type": "string"
        },
        {
         "name": "title_synonyms",
         "rawType": "object",
         "type": "string"
        }
       ],
       "ref": "210a60cf-1b29-4034-be14-3df1ffb265ee",
       "rows": [
        [
         "0",
         "2",
         "Berserk",
         "manga",
         "9.47",
         "319696",
         "currently_publishing",
         null,
         null,
         "1989-08-25",
         null,
         "643969",
         "119470",
         "True",
         "True",
         "2007-07-17 20:14:45+00:00",
         "2023-04-01 00:19:31+00:00",
         "1989-08-25",
         null,
         "['Action', 'Adventure', 'Award Winning', 'Drama', 'Fantasy', 'Horror', 'Supernatural']",
         "['Gore', 'Military', 'Mythology', 'Psychological']",
         "['Seinen']",
         "[{'id': 1868, 'first_name': 'Kentarou', 'last_name': 'Miura', 'role': 'Story & Art'}, {'id': 49592, 'first_name': '', 'last_name': 'Studio Gaga', 'role': 'Art'}]",
         "['Young Animal']",
         "Guts, a former mercenary now known as the \"Black Swordsman,\" is out for revenge. After a tumultuous childhood, he finally finds someone he respects and believes he can trust, only to have everything fall apart when this person takes away everything important to Guts for the purpose of fulfilling his own desires. Now marked for death, Guts becomes condemned to a fate in which he is relentlessly pursued by demonic beings.\n\nSetting out on a dreadful quest riddled with misfortune, Guts, armed with a massive sword and monstrous strength, will let nothing stop him, not even death itself, until he is finally able to take the head of the one who stripped him—and his loved one—of their humanity.\n\n[Written by MAL Rewrite]\n\nIncluded one-shot:\nVolume 14: Berserk: The Prototype",
         "Berserk won the Award for Excellence at the sixth installment of Tezuka Osamu Cultural Prize in 2002. The series has over 50 million copies in print worldwide and has been published in English by Dark Horse since November 4, 2003. It is also published in Italy, Germany, Spain, France, Brazil, South Korea, Hong Kong, Taiwan, Thailand, Poland, México and Turkey. In May 2021, the author Kentaro Miura suddenly died at the age of 54. Chapter 364 of Berserk was published posthumously on September 10, 2021. Miura would often share details about the series' story with his childhood friend and fellow mangaka Kouji Mori. Berserk resumed on June 24, 2022, with Studio Gaga handling the art and Kouji Mori's supervision.",
         "https://cdn.myanimelist.net/images/manga/1/157897l.jpg",
         "https://myanimelist.net/manga/2/Berserk",
         "Berserk",
         "ベルセルク",
         "['Berserk: The Prototype']"
        ],
        [
         "1",
         "13",
         "One Piece",
         "manga",
         "9.22",
         "355375",
         "currently_publishing",
         null,
         null,
         "1997-07-22",
         null,
         "579557",
         "111462",
         "True",
         "True",
         "2007-07-17 20:14:45+00:00",
         "2023-06-24 12:39:48+00:00",
         "1997-07-22",
         null,
         "['Action', 'Adventure', 'Fantasy']",
         "[]",
         "['Shounen']",
         "[{'id': 1881, 'first_name': 'Eiichiro', 'last_name': 'Oda', 'role': 'Story & Art'}]",
         "['Shounen Jump (Weekly)']",
         "Gol D. Roger, a man referred to as the \"King of the Pirates,\" is set to be executed by the World Government. But just before his demise, he confirms the existence of a great treasure, One Piece, located somewhere within the vast ocean known as the Grand Line. Announcing that One Piece can be claimed by anyone worthy enough to reach it, the King of the Pirates is executed and the Great Age of Pirates begins.\n\nTwenty-two years later, a young man by the name of Monkey D. Luffy is ready to embark on his own adventure, searching for One Piece and striving to become the new King of the Pirates. Armed with just a straw hat, a small boat, and an elastic body, he sets out on a fantastic journey to gather his own crew and a worthy ship that will take them across the Grand Line to claim the greatest status on the high seas.\n\n[Written by MAL Rewrite]",
         "One Piece is the highest selling manga series of all time, with over 500 million copies in circulation as of 2022. Volume 67 of the series currently holds the record for highest first print run of any manga (including books) of all time in Japan, with 4.05 million in 2012. The series was a finalist for the Tezuka Osamu Cultural Prize three times in a row from 2000 to 2002. In 2012, it won the 41st Japan Cartoonists Association Award Grand Prize, alongside Kimuchi Yokoyama's Neko Darake. VIZ Media has published One Piece in English under the Shonen Jump imprint since January 2, 2003 and in 3-in-1 omnibus editions since December 1, 2009. VIZ Media released three boxed sets for the manga; the first including the first 23 volumes released on November 5, 2013, the second including volumes 24-46 released on November 4, 2014, and the third including volumes 47-70 released on October 4, 2016. The series has also been published in numerous amounts of languages worldwide including; Korean, Malay, Indonesian, Chinese, Thai, Vietnamese, German, French, Italian, Spanish, Portuguese, Swedish, Danish, Norwegian, Finnish, Polish, Turkish, and Russian.",
         "https://cdn.myanimelist.net/images/manga/2/253146l.jpg",
         "https://myanimelist.net/manga/13/One_Piece",
         "One Piece",
         "ONE PIECE",
         "[]"
        ],
        [
         "2",
         "1706",
         "JoJo no Kimyou na Bouken Part 7: Steel Ball Run",
         "manga",
         "9.3",
         "151433",
         "finished",
         "24.0",
         "96.0",
         "2004-01-19",
         "2011-04-19",
         "248511",
         "41713",
         "True",
         "True",
         "2007-10-07 08:14:20+00:00",
         "2023-04-02 18:07:42+00:00",
         "2004-01-19",
         "2011-04-19",
         "['Action', 'Adventure', 'Mystery', 'Supernatural']",
         "['Historical']",
         "['Seinen', 'Shounen']",
         "[{'id': 2619, 'first_name': 'Hirohiko', 'last_name': 'Araki', 'role': 'Story & Art'}]",
         "['Ultra Jump']",
         "In the American Old West, the world's greatest race is about to begin. Thousands line up in San Diego to travel over six thousand kilometers for a chance to win the grand prize of fifty million dollars. With the era of the horse reaching its end, contestants are allowed to use any kind of vehicle they wish. Competitors will have to endure grueling conditions, traveling up to a hundred kilometers a day through uncharted wastelands. The Steel Ball Run is truly a one-of-a-kind event.\n\nThe youthful Johnny Joestar, a crippled former horse racer, has come to San Diego to watch the start of the race. There he encounters Gyro Zeppeli, a racer with two steel balls at his waist instead of a gun. Johnny witnesses Gyro using one of his steel balls to unleash a fantastical power, compelling a man to fire his gun at himself during a duel. In the midst of the action, Johnny happens to touch the steel ball and feels a power surging through his legs, allowing him to stand up for the first time in two years. Vowing to find the secret of the steel balls, Johnny decides to compete in the race, and so begins his bizarre adventure across America on the Steel Ball Run.\n\n[Written by MAL Rewrite]",
         "JoJo no Kimyou na Bouken Part 7: Steel Ball Run was originally presented as an unrelated story to the JoJo series and was serialized in Weekly Shounen Jump magazine as Steel Ball Run from issues #8~47 2004. Serialization then transferred to Ultra Jump magazine from issue May 2005 and the series was officially declared as Part 7 of the JoJo no Kimyou na Bouken series.",
         "https://cdn.myanimelist.net/images/manga/3/179882l.jpg",
         "https://myanimelist.net/manga/1706/JoJo_no_Kimyou_na_Bouken_Part_7__Steel_Ball_Run",
         null,
         "ジョジョの奇妙な冒険 Part7 STEEL BALL RUN",
         "[\"JoJo's Bizarre Adventure Part 7: Steel Ball Run\", 'SBR']"
        ],
        [
         "3",
         "4632",
         "Oyasumi Punpun",
         "manga",
         "9.02",
         "168459",
         "finished",
         "13.0",
         "147.0",
         "2007-03-15",
         "2013-11-02",
         "413897",
         "49361",
         "True",
         "True",
         "2008-02-03 15:54:30+00:00",
         "2023-04-02 18:09:11+00:00",
         "2007-03-15",
         "2013-11-02",
         "['Drama', 'Slice of Life']",
         "['Psychological']",
         "['Seinen']",
         "[{'id': 2836, 'first_name': 'Inio', 'last_name': 'Asano', 'role': 'Story & Art'}]",
         "['Big Comic Spirits']",
         "Punpun Onodera is a normal 11-year-old boy living in Japan. Hopelessly idealistic and romantic, Punpun begins to see his life take a subtle—though nonetheless startling—turn to the adult when he meets the new girl in his class, Aiko Tanaka. It is then that the quiet boy learns just how fickle maintaining a relationship can be, and the surmounting difficulties of transitioning from a naïve boyhood to a convoluted adulthood. When his father assaults his mother one night, Punpun realizes another thing: those whom he looked up to were not as impressive as he once thought.\n\nAs his problems increase, Punpun's once shy demeanor turns into voluntary reclusiveness. Rather than curing him of his problems and conflicting emotions, this merely intensifies them, sending him down the dark path of maturity in this grim coming-of-age saga.\n\n[Written by MAL Rewrite]",
         "Oyasumi Punpun was originally serialized in Young Sunday, but moved to Big Comic Spirits on October 20, 2008 (47th issue). It received a Jury Recommendation at the 13th Japan Media Arts Festival Awards in 2009. The series was published in English as Goodnight Punpun by VIZ Media under the VIZ Signature imprint in 7 omnibus volumes from March 15, 2016 to September 19, 2017. It was also published in Spanish as Buenas noches, Punpun by Norma Editorial from October 29, 2015 to October 29, 2016; in Italian as Buonanotte, Punpun by Panini Comics from April 14, 2011 to July 31, 2014; and has been published by Editorial Ivrea in Argentina since July 21, 2017.",
         "https://cdn.myanimelist.net/images/manga/3/266834l.jpg",
         "https://myanimelist.net/manga/4632/Oyasumi_Punpun",
         "Goodnight Punpun",
         "おやすみプンプン",
         "[]"
        ],
        [
         "4",
         "25",
         "Fullmetal Alchemist",
         "manga",
         "9.03",
         "153151",
         "finished",
         "27.0",
         "116.0",
         "2001-07-12",
         "2010-09-11",
         "284027",
         "29634",
         "True",
         "True",
         "2007-07-17 20:14:45+00:00",
         "2023-05-27 17:21:27+00:00",
         "2001-07-12",
         "2010-09-11",
         "['Action', 'Adventure', 'Award Winning', 'Drama', 'Fantasy']",
         "['Military']",
         "['Shounen']",
         "[{'id': 1874, 'first_name': 'Hiromu', 'last_name': 'Arakawa', 'role': 'Story & Art'}]",
         "['Shounen Gangan']",
         "Alchemists are knowledgeable and naturally talented individuals who can manipulate and modify matter due to their art. Yet despite the wide range of possibilities, alchemy is not as all-powerful as most would believe. Human transmutation is strictly forbidden, and whoever attempts it risks severe consequences. Even so, siblings Edward and Alphonse Elric decide to ignore this great taboo and bring their mother back to life. Unfortunately, not only do they fail in resurrecting her, they also pay an extremely high price for their arrogance: Edward loses his left leg and Alphonse his entire body. Furthermore, Edward also gives up his right arm in order to seal his brother's soul into a suit of armor.\n\nYears later, the young alchemists travel across the country looking for the Philosopher's Stone, in the hopes of recovering their old bodies with its power. However, their quest for the fated stone also leads them to unravel far darker secrets than they could ever imagine.\n\n[Written by MAL Rewrite]",
         "Hagane no Renkinjutsushi won the 49th Shogakukan Manga Award for the shounen demographic in 2004. Hiromu Arakawa also won the 15th Tezuka Osamu Cultural Prize in the New Artist Prize category for the series in 2011. As of 2015, over 64 million copies of the series have been sold worldwide, making it one of Square Enix's most successful publications, according to Nielsen Bookscan. A live-action film is in development by Warner Bros. Japan and is scheduled for release in Winter 2017. The series was published in English as Fullmetal Alchemist by VIZ Media from May 3, 2005 to December 20, 2011, and in eBook format by Yen Press on April 15, 2014. A 3-in-1 omnibus edition was released by VIZ from June 7, 2011 to November 11, 2014 as well as a complete box set in November 1, 2011 (which included the novel Fullmetal Alchemist: The Ties That Bind). The manga was also published in Italian by Panini Comics under the Planet Manga imprint from July 13, 2006 to September 3, 2011, in Polish by J.P. Fantastica from January 2006 to to April 2012, in Brazilian Portuguese by Jbc from February 2007 to April 2011 and in Spanish by Ivrea Argentina starting December 12, 2016.",
         "https://cdn.myanimelist.net/images/manga/3/243675l.jpg",
         "https://myanimelist.net/manga/25/Fullmetal_Alchemist",
         "Fullmetal Alchemist",
         "鋼の錬金術師",
         "['Full Metal Alchemist', 'Hagane no Renkinjutsushi', 'FMA', 'HagaRen', 'Fullmetal Alchemist Gaiden']"
        ]
       ],
       "shape": {
        "columns": 30,
        "rows": 5
       }
      },
      "text/html": [
       "<div>\n",
       "<style scoped>\n",
       "    .dataframe tbody tr th:only-of-type {\n",
       "        vertical-align: middle;\n",
       "    }\n",
       "\n",
       "    .dataframe tbody tr th {\n",
       "        vertical-align: top;\n",
       "    }\n",
       "\n",
       "    .dataframe thead th {\n",
       "        text-align: right;\n",
       "    }\n",
       "</style>\n",
       "<table border=\"1\" class=\"dataframe\">\n",
       "  <thead>\n",
       "    <tr style=\"text-align: right;\">\n",
       "      <th></th>\n",
       "      <th>manga_id</th>\n",
       "      <th>title</th>\n",
       "      <th>type</th>\n",
       "      <th>score</th>\n",
       "      <th>scored_by</th>\n",
       "      <th>status</th>\n",
       "      <th>volumes</th>\n",
       "      <th>chapters</th>\n",
       "      <th>start_date</th>\n",
       "      <th>end_date</th>\n",
       "      <th>...</th>\n",
       "      <th>demographics</th>\n",
       "      <th>authors</th>\n",
       "      <th>serializations</th>\n",
       "      <th>synopsis</th>\n",
       "      <th>background</th>\n",
       "      <th>main_picture</th>\n",
       "      <th>url</th>\n",
       "      <th>title_english</th>\n",
       "      <th>title_japanese</th>\n",
       "      <th>title_synonyms</th>\n",
       "    </tr>\n",
       "  </thead>\n",
       "  <tbody>\n",
       "    <tr>\n",
       "      <th>0</th>\n",
       "      <td>2</td>\n",
       "      <td>Berserk</td>\n",
       "      <td>manga</td>\n",
       "      <td>9.47</td>\n",
       "      <td>319696</td>\n",
       "      <td>currently_publishing</td>\n",
       "      <td>NaN</td>\n",
       "      <td>NaN</td>\n",
       "      <td>1989-08-25</td>\n",
       "      <td>NaN</td>\n",
       "      <td>...</td>\n",
       "      <td>['Seinen']</td>\n",
       "      <td>[{'id': 1868, 'first_name': 'Kentarou', 'last_...</td>\n",
       "      <td>['Young Animal']</td>\n",
       "      <td>Guts, a former mercenary now known as the \"Bla...</td>\n",
       "      <td>Berserk won the Award for Excellence at the si...</td>\n",
       "      <td>https://cdn.myanimelist.net/images/manga/1/157...</td>\n",
       "      <td>https://myanimelist.net/manga/2/Berserk</td>\n",
       "      <td>Berserk</td>\n",
       "      <td>ベルセルク</td>\n",
       "      <td>['Berserk: The Prototype']</td>\n",
       "    </tr>\n",
       "    <tr>\n",
       "      <th>1</th>\n",
       "      <td>13</td>\n",
       "      <td>One Piece</td>\n",
       "      <td>manga</td>\n",
       "      <td>9.22</td>\n",
       "      <td>355375</td>\n",
       "      <td>currently_publishing</td>\n",
       "      <td>NaN</td>\n",
       "      <td>NaN</td>\n",
       "      <td>1997-07-22</td>\n",
       "      <td>NaN</td>\n",
       "      <td>...</td>\n",
       "      <td>['Shounen']</td>\n",
       "      <td>[{'id': 1881, 'first_name': 'Eiichiro', 'last_...</td>\n",
       "      <td>['Shounen Jump (Weekly)']</td>\n",
       "      <td>Gol D. Roger, a man referred to as the \"King o...</td>\n",
       "      <td>One Piece is the highest selling manga series ...</td>\n",
       "      <td>https://cdn.myanimelist.net/images/manga/2/253...</td>\n",
       "      <td>https://myanimelist.net/manga/13/One_Piece</td>\n",
       "      <td>One Piece</td>\n",
       "      <td>ONE PIECE</td>\n",
       "      <td>[]</td>\n",
       "    </tr>\n",
       "    <tr>\n",
       "      <th>2</th>\n",
       "      <td>1706</td>\n",
       "      <td>JoJo no Kimyou na Bouken Part 7: Steel Ball Run</td>\n",
       "      <td>manga</td>\n",
       "      <td>9.30</td>\n",
       "      <td>151433</td>\n",
       "      <td>finished</td>\n",
       "      <td>24.0</td>\n",
       "      <td>96.0</td>\n",
       "      <td>2004-01-19</td>\n",
       "      <td>2011-04-19</td>\n",
       "      <td>...</td>\n",
       "      <td>['Seinen', 'Shounen']</td>\n",
       "      <td>[{'id': 2619, 'first_name': 'Hirohiko', 'last_...</td>\n",
       "      <td>['Ultra Jump']</td>\n",
       "      <td>In the American Old West, the world's greatest...</td>\n",
       "      <td>JoJo no Kimyou na Bouken Part 7: Steel Ball Ru...</td>\n",
       "      <td>https://cdn.myanimelist.net/images/manga/3/179...</td>\n",
       "      <td>https://myanimelist.net/manga/1706/JoJo_no_Kim...</td>\n",
       "      <td>NaN</td>\n",
       "      <td>ジョジョの奇妙な冒険 Part7 STEEL BALL RUN</td>\n",
       "      <td>[\"JoJo's Bizarre Adventure Part 7: Steel Ball ...</td>\n",
       "    </tr>\n",
       "    <tr>\n",
       "      <th>3</th>\n",
       "      <td>4632</td>\n",
       "      <td>Oyasumi Punpun</td>\n",
       "      <td>manga</td>\n",
       "      <td>9.02</td>\n",
       "      <td>168459</td>\n",
       "      <td>finished</td>\n",
       "      <td>13.0</td>\n",
       "      <td>147.0</td>\n",
       "      <td>2007-03-15</td>\n",
       "      <td>2013-11-02</td>\n",
       "      <td>...</td>\n",
       "      <td>['Seinen']</td>\n",
       "      <td>[{'id': 2836, 'first_name': 'Inio', 'last_name...</td>\n",
       "      <td>['Big Comic Spirits']</td>\n",
       "      <td>Punpun Onodera is a normal 11-year-old boy liv...</td>\n",
       "      <td>Oyasumi Punpun was originally serialized in Yo...</td>\n",
       "      <td>https://cdn.myanimelist.net/images/manga/3/266...</td>\n",
       "      <td>https://myanimelist.net/manga/4632/Oyasumi_Punpun</td>\n",
       "      <td>Goodnight Punpun</td>\n",
       "      <td>おやすみプンプン</td>\n",
       "      <td>[]</td>\n",
       "    </tr>\n",
       "    <tr>\n",
       "      <th>4</th>\n",
       "      <td>25</td>\n",
       "      <td>Fullmetal Alchemist</td>\n",
       "      <td>manga</td>\n",
       "      <td>9.03</td>\n",
       "      <td>153151</td>\n",
       "      <td>finished</td>\n",
       "      <td>27.0</td>\n",
       "      <td>116.0</td>\n",
       "      <td>2001-07-12</td>\n",
       "      <td>2010-09-11</td>\n",
       "      <td>...</td>\n",
       "      <td>['Shounen']</td>\n",
       "      <td>[{'id': 1874, 'first_name': 'Hiromu', 'last_na...</td>\n",
       "      <td>['Shounen Gangan']</td>\n",
       "      <td>Alchemists are knowledgeable and naturally tal...</td>\n",
       "      <td>Hagane no Renkinjutsushi won the 49th Shogakuk...</td>\n",
       "      <td>https://cdn.myanimelist.net/images/manga/3/243...</td>\n",
       "      <td>https://myanimelist.net/manga/25/Fullmetal_Alc...</td>\n",
       "      <td>Fullmetal Alchemist</td>\n",
       "      <td>鋼の錬金術師</td>\n",
       "      <td>['Full Metal Alchemist', 'Hagane no Renkinjuts...</td>\n",
       "    </tr>\n",
       "  </tbody>\n",
       "</table>\n",
       "<p>5 rows × 30 columns</p>\n",
       "</div>"
      ],
      "text/plain": [
       "   manga_id                                            title   type  score  \\\n",
       "0         2                                          Berserk  manga   9.47   \n",
       "1        13                                        One Piece  manga   9.22   \n",
       "2      1706  JoJo no Kimyou na Bouken Part 7: Steel Ball Run  manga   9.30   \n",
       "3      4632                                   Oyasumi Punpun  manga   9.02   \n",
       "4        25                              Fullmetal Alchemist  manga   9.03   \n",
       "\n",
       "   scored_by                status  volumes  chapters  start_date    end_date  \\\n",
       "0     319696  currently_publishing      NaN       NaN  1989-08-25         NaN   \n",
       "1     355375  currently_publishing      NaN       NaN  1997-07-22         NaN   \n",
       "2     151433              finished     24.0      96.0  2004-01-19  2011-04-19   \n",
       "3     168459              finished     13.0     147.0  2007-03-15  2013-11-02   \n",
       "4     153151              finished     27.0     116.0  2001-07-12  2010-09-11   \n",
       "\n",
       "   ...           demographics  \\\n",
       "0  ...             ['Seinen']   \n",
       "1  ...            ['Shounen']   \n",
       "2  ...  ['Seinen', 'Shounen']   \n",
       "3  ...             ['Seinen']   \n",
       "4  ...            ['Shounen']   \n",
       "\n",
       "                                             authors  \\\n",
       "0  [{'id': 1868, 'first_name': 'Kentarou', 'last_...   \n",
       "1  [{'id': 1881, 'first_name': 'Eiichiro', 'last_...   \n",
       "2  [{'id': 2619, 'first_name': 'Hirohiko', 'last_...   \n",
       "3  [{'id': 2836, 'first_name': 'Inio', 'last_name...   \n",
       "4  [{'id': 1874, 'first_name': 'Hiromu', 'last_na...   \n",
       "\n",
       "              serializations  \\\n",
       "0           ['Young Animal']   \n",
       "1  ['Shounen Jump (Weekly)']   \n",
       "2             ['Ultra Jump']   \n",
       "3      ['Big Comic Spirits']   \n",
       "4         ['Shounen Gangan']   \n",
       "\n",
       "                                            synopsis  \\\n",
       "0  Guts, a former mercenary now known as the \"Bla...   \n",
       "1  Gol D. Roger, a man referred to as the \"King o...   \n",
       "2  In the American Old West, the world's greatest...   \n",
       "3  Punpun Onodera is a normal 11-year-old boy liv...   \n",
       "4  Alchemists are knowledgeable and naturally tal...   \n",
       "\n",
       "                                          background  \\\n",
       "0  Berserk won the Award for Excellence at the si...   \n",
       "1  One Piece is the highest selling manga series ...   \n",
       "2  JoJo no Kimyou na Bouken Part 7: Steel Ball Ru...   \n",
       "3  Oyasumi Punpun was originally serialized in Yo...   \n",
       "4  Hagane no Renkinjutsushi won the 49th Shogakuk...   \n",
       "\n",
       "                                        main_picture  \\\n",
       "0  https://cdn.myanimelist.net/images/manga/1/157...   \n",
       "1  https://cdn.myanimelist.net/images/manga/2/253...   \n",
       "2  https://cdn.myanimelist.net/images/manga/3/179...   \n",
       "3  https://cdn.myanimelist.net/images/manga/3/266...   \n",
       "4  https://cdn.myanimelist.net/images/manga/3/243...   \n",
       "\n",
       "                                                 url        title_english  \\\n",
       "0            https://myanimelist.net/manga/2/Berserk              Berserk   \n",
       "1         https://myanimelist.net/manga/13/One_Piece            One Piece   \n",
       "2  https://myanimelist.net/manga/1706/JoJo_no_Kim...                  NaN   \n",
       "3  https://myanimelist.net/manga/4632/Oyasumi_Punpun     Goodnight Punpun   \n",
       "4  https://myanimelist.net/manga/25/Fullmetal_Alc...  Fullmetal Alchemist   \n",
       "\n",
       "                    title_japanese  \\\n",
       "0                            ベルセルク   \n",
       "1                        ONE PIECE   \n",
       "2  ジョジョの奇妙な冒険 Part7 STEEL BALL RUN   \n",
       "3                         おやすみプンプン   \n",
       "4                           鋼の錬金術師   \n",
       "\n",
       "                                      title_synonyms  \n",
       "0                         ['Berserk: The Prototype']  \n",
       "1                                                 []  \n",
       "2  [\"JoJo's Bizarre Adventure Part 7: Steel Ball ...  \n",
       "3                                                 []  \n",
       "4  ['Full Metal Alchemist', 'Hagane no Renkinjuts...  \n",
       "\n",
       "[5 rows x 30 columns]"
      ]
     },
     "metadata": {},
     "output_type": "display_data"
    },
    {
     "name": "stdout",
     "output_type": "stream",
     "text": [
      "\n",
      "===== Informacion tecnica del dataframe =====\n",
      "<class 'pandas.core.frame.DataFrame'>\n",
      "RangeIndex: 64833 entries, 0 to 64832\n",
      "Data columns (total 30 columns):\n",
      " #   Column             Non-Null Count  Dtype  \n",
      "---  ------             --------------  -----  \n",
      " 0   manga_id           64833 non-null  int64  \n",
      " 1   title              64833 non-null  object \n",
      " 2   type               64833 non-null  object \n",
      " 3   score              24636 non-null  float64\n",
      " 4   scored_by          64833 non-null  int64  \n",
      " 5   status             64833 non-null  object \n",
      " 6   volumes            48211 non-null  float64\n",
      " 7   chapters           46042 non-null  float64\n",
      " 8   start_date         62950 non-null  object \n",
      " 9   end_date           51932 non-null  object \n",
      " 10  members            64833 non-null  int64  \n",
      " 11  favorites          64833 non-null  int64  \n",
      " 12  sfw                64833 non-null  bool   \n",
      " 13  approved           64833 non-null  bool   \n",
      " 14  created_at_before  64833 non-null  object \n",
      " 15  updated_at         62678 non-null  object \n",
      " 16  real_start_date    62950 non-null  object \n",
      " 17  real_end_date      51932 non-null  object \n",
      " 18  genres             64833 non-null  object \n",
      " 19  themes             64833 non-null  object \n",
      " 20  demographics       64833 non-null  object \n",
      " 21  authors            64833 non-null  object \n",
      " 22  serializations     64833 non-null  object \n",
      " 23  synopsis           44910 non-null  object \n",
      " 24  background         11433 non-null  object \n",
      " 25  main_picture       64777 non-null  object \n",
      " 26  url                64833 non-null  object \n",
      " 27  title_english      18716 non-null  object \n",
      " 28  title_japanese     63700 non-null  object \n",
      " 29  title_synonyms     64833 non-null  object \n",
      "dtypes: bool(2), float64(3), int64(4), object(21)\n",
      "memory usage: 14.0+ MB\n",
      "None\n",
      "\n",
      "===== Estadisticas Descriptivas de las coumnas numericas =====\n"
     ]
    },
    {
     "data": {
      "application/vnd.microsoft.datawrangler.viewer.v0+json": {
       "columns": [
        {
         "name": "index",
         "rawType": "object",
         "type": "string"
        },
        {
         "name": "manga_id",
         "rawType": "float64",
         "type": "float"
        },
        {
         "name": "score",
         "rawType": "float64",
         "type": "float"
        },
        {
         "name": "scored_by",
         "rawType": "float64",
         "type": "float"
        },
        {
         "name": "volumes",
         "rawType": "float64",
         "type": "float"
        },
        {
         "name": "chapters",
         "rawType": "float64",
         "type": "float"
        },
        {
         "name": "members",
         "rawType": "float64",
         "type": "float"
        },
        {
         "name": "favorites",
         "rawType": "float64",
         "type": "float"
        }
       ],
       "ref": "0fa31a45-7c8a-4184-8c09-82f7b32a1ed1",
       "rows": [
        [
         "count",
         "64833.0",
         "24636.0",
         "64833.0",
         "48211.0",
         "46042.0",
         "64833.0",
         "64833.0"
        ],
        [
         "mean",
         "77098.23804235498",
         "6.9451790063321965",
         "686.9975012725001",
         "2.970089813528033",
         "21.186416749923982",
         "1758.75612728086",
         "54.991439544676325"
        ],
        [
         "std",
         "48549.54813898909",
         "0.5201697709851325",
         "5514.493705498261",
         "4.771116491169638",
         "53.896369850133915",
         "11083.10736054004",
         "1057.0594865263824"
        ],
        [
         "min",
         "1.0",
         "2.44",
         "0.0",
         "1.0",
         "1.0",
         "3.0",
         "0.0"
        ],
        [
         "25%",
         "26466.0",
         "6.62",
         "7.0",
         "1.0",
         "5.0",
         "64.0",
         "0.0"
        ],
        [
         "50%",
         "85847.0",
         "6.91",
         "46.0",
         "1.0",
         "9.0",
         "190.0",
         "0.0"
        ],
        [
         "75%",
         "115701.0",
         "7.25",
         "261.0",
         "3.0",
         "19.0",
         "786.0",
         "3.0"
        ],
        [
         "max",
         "161613.0",
         "9.47",
         "394362.0",
         "200.0",
         "6477.0",
         "643969.0",
         "119470.0"
        ]
       ],
       "shape": {
        "columns": 7,
        "rows": 8
       }
      },
      "text/html": [
       "<div>\n",
       "<style scoped>\n",
       "    .dataframe tbody tr th:only-of-type {\n",
       "        vertical-align: middle;\n",
       "    }\n",
       "\n",
       "    .dataframe tbody tr th {\n",
       "        vertical-align: top;\n",
       "    }\n",
       "\n",
       "    .dataframe thead th {\n",
       "        text-align: right;\n",
       "    }\n",
       "</style>\n",
       "<table border=\"1\" class=\"dataframe\">\n",
       "  <thead>\n",
       "    <tr style=\"text-align: right;\">\n",
       "      <th></th>\n",
       "      <th>manga_id</th>\n",
       "      <th>score</th>\n",
       "      <th>scored_by</th>\n",
       "      <th>volumes</th>\n",
       "      <th>chapters</th>\n",
       "      <th>members</th>\n",
       "      <th>favorites</th>\n",
       "    </tr>\n",
       "  </thead>\n",
       "  <tbody>\n",
       "    <tr>\n",
       "      <th>count</th>\n",
       "      <td>64833.000000</td>\n",
       "      <td>24636.000000</td>\n",
       "      <td>64833.000000</td>\n",
       "      <td>48211.000000</td>\n",
       "      <td>46042.000000</td>\n",
       "      <td>64833.000000</td>\n",
       "      <td>64833.000000</td>\n",
       "    </tr>\n",
       "    <tr>\n",
       "      <th>mean</th>\n",
       "      <td>77098.238042</td>\n",
       "      <td>6.945179</td>\n",
       "      <td>686.997501</td>\n",
       "      <td>2.970090</td>\n",
       "      <td>21.186417</td>\n",
       "      <td>1758.756127</td>\n",
       "      <td>54.991440</td>\n",
       "    </tr>\n",
       "    <tr>\n",
       "      <th>std</th>\n",
       "      <td>48549.548139</td>\n",
       "      <td>0.520170</td>\n",
       "      <td>5514.493705</td>\n",
       "      <td>4.771116</td>\n",
       "      <td>53.896370</td>\n",
       "      <td>11083.107361</td>\n",
       "      <td>1057.059487</td>\n",
       "    </tr>\n",
       "    <tr>\n",
       "      <th>min</th>\n",
       "      <td>1.000000</td>\n",
       "      <td>2.440000</td>\n",
       "      <td>0.000000</td>\n",
       "      <td>1.000000</td>\n",
       "      <td>1.000000</td>\n",
       "      <td>3.000000</td>\n",
       "      <td>0.000000</td>\n",
       "    </tr>\n",
       "    <tr>\n",
       "      <th>25%</th>\n",
       "      <td>26466.000000</td>\n",
       "      <td>6.620000</td>\n",
       "      <td>7.000000</td>\n",
       "      <td>1.000000</td>\n",
       "      <td>5.000000</td>\n",
       "      <td>64.000000</td>\n",
       "      <td>0.000000</td>\n",
       "    </tr>\n",
       "    <tr>\n",
       "      <th>50%</th>\n",
       "      <td>85847.000000</td>\n",
       "      <td>6.910000</td>\n",
       "      <td>46.000000</td>\n",
       "      <td>1.000000</td>\n",
       "      <td>9.000000</td>\n",
       "      <td>190.000000</td>\n",
       "      <td>0.000000</td>\n",
       "    </tr>\n",
       "    <tr>\n",
       "      <th>75%</th>\n",
       "      <td>115701.000000</td>\n",
       "      <td>7.250000</td>\n",
       "      <td>261.000000</td>\n",
       "      <td>3.000000</td>\n",
       "      <td>19.000000</td>\n",
       "      <td>786.000000</td>\n",
       "      <td>3.000000</td>\n",
       "    </tr>\n",
       "    <tr>\n",
       "      <th>max</th>\n",
       "      <td>161613.000000</td>\n",
       "      <td>9.470000</td>\n",
       "      <td>394362.000000</td>\n",
       "      <td>200.000000</td>\n",
       "      <td>6477.000000</td>\n",
       "      <td>643969.000000</td>\n",
       "      <td>119470.000000</td>\n",
       "    </tr>\n",
       "  </tbody>\n",
       "</table>\n",
       "</div>"
      ],
      "text/plain": [
       "            manga_id         score      scored_by       volumes      chapters  \\\n",
       "count   64833.000000  24636.000000   64833.000000  48211.000000  46042.000000   \n",
       "mean    77098.238042      6.945179     686.997501      2.970090     21.186417   \n",
       "std     48549.548139      0.520170    5514.493705      4.771116     53.896370   \n",
       "min         1.000000      2.440000       0.000000      1.000000      1.000000   \n",
       "25%     26466.000000      6.620000       7.000000      1.000000      5.000000   \n",
       "50%     85847.000000      6.910000      46.000000      1.000000      9.000000   \n",
       "75%    115701.000000      7.250000     261.000000      3.000000     19.000000   \n",
       "max    161613.000000      9.470000  394362.000000    200.000000   6477.000000   \n",
       "\n",
       "             members      favorites  \n",
       "count   64833.000000   64833.000000  \n",
       "mean     1758.756127      54.991440  \n",
       "std     11083.107361    1057.059487  \n",
       "min         3.000000       0.000000  \n",
       "25%        64.000000       0.000000  \n",
       "50%       190.000000       0.000000  \n",
       "75%       786.000000       3.000000  \n",
       "max    643969.000000  119470.000000  "
      ]
     },
     "metadata": {},
     "output_type": "display_data"
    }
   ],
   "source": [
    "#----------------------------#\n",
    "# Vista general de los datos #\n",
    "#----------------------------#\n",
    "\n",
    "print(\"===== Primeras filas del dataframe =====\")\n",
    "display(df.head())\n",
    "\n",
    "print(\"\\n===== Informacion tecnica del dataframe =====\")\n",
    "print(df.info())\n",
    "\n",
    "print(\"\\n===== Estadisticas Descriptivas de las coumnas numericas =====\")\n",
    "display(df.describe())"
   ]
  },
  {
   "cell_type": "code",
   "execution_count": null,
   "id": "f7291dc6",
   "metadata": {},
   "outputs": [
    {
     "name": "stdout",
     "output_type": "stream",
     "text": [
      "===== Columnas después de la limpieza =====\n",
      "Index(['manga_id', 'title', 'type', 'score', 'scored_by', 'status', 'volumes',\n",
      "       'chapters', 'members', 'favorites', 'genres', 'themes', 'demographics',\n",
      "       'authors', 'serializations', 'synopsis'],\n",
      "      dtype='object')\n",
      "<class 'pandas.core.frame.DataFrame'>\n",
      "RangeIndex: 64833 entries, 0 to 64832\n",
      "Data columns (total 16 columns):\n",
      " #   Column          Non-Null Count  Dtype  \n",
      "---  ------          --------------  -----  \n",
      " 0   manga_id        64833 non-null  int64  \n",
      " 1   title           64833 non-null  object \n",
      " 2   type            64833 non-null  object \n",
      " 3   score           24636 non-null  float64\n",
      " 4   scored_by       64833 non-null  int64  \n",
      " 5   status          64833 non-null  object \n",
      " 6   volumes         48211 non-null  float64\n",
      " 7   chapters        46042 non-null  float64\n",
      " 8   members         64833 non-null  int64  \n",
      " 9   favorites       64833 non-null  int64  \n",
      " 10  genres          64833 non-null  object \n",
      " 11  themes          64833 non-null  object \n",
      " 12  demographics    64833 non-null  object \n",
      " 13  authors         64833 non-null  object \n",
      " 14  serializations  64833 non-null  object \n",
      " 15  synopsis        44910 non-null  object \n",
      "dtypes: float64(3), int64(4), object(9)\n",
      "memory usage: 7.9+ MB\n"
     ]
    }
   ],
   "source": [
    "#---------------------------------------------#\n",
    "# Limieza inicial y Preprocesamiento de datos #\n",
    "#---------------------------------------------#\n",
    "print(\"\\n===== Realizando limpieza de datos... =====\")\n",
    "\n",
    "# Eliminar duplicados\n",
    "df.drop_duplicates(inplace=True)\n",
    "\n",
    "columnas_para_borrar = [\n",
    "    'sfw', 'approved', 'created_at_before', 'updated_at',\n",
    "    'start_date', 'end_date', 'real_start_date', 'real_end_date',\n",
    "    'background', 'main_picture', 'url',\n",
    "    'title_english', 'title_japanese', 'title_synonyms'\n",
    "]\n",
    "\n",
    "# Limipiar el DataFrame eliminando columnas innecesarias (no aportan valor)\n",
    "df_limpio = df.drop(columns=columnas_para_borrar)\n",
    "\n",
    "# Verifir las columnas restantes\n",
    "print(\"===== Columnas después de la limpieza =====\")\n",
    "print(df_limpio.columns)\n",
    "\n",
    "print(\"\\n\", df_limpio.info())"
   ]
  },
  {
   "cell_type": "code",
   "execution_count": null,
   "id": "c633df10",
   "metadata": {},
   "outputs": [
    {
     "name": "stdout",
     "output_type": "stream",
     "text": [
      "===== Valores nulos =====\n",
      "manga_id              0\n",
      "title                 0\n",
      "type                  0\n",
      "score             40197\n",
      "scored_by             0\n",
      "status                0\n",
      "volumes           16622\n",
      "chapters          18791\n",
      "members               0\n",
      "favorites             0\n",
      "genres                0\n",
      "themes                0\n",
      "demographics          0\n",
      "authors               0\n",
      "serializations        0\n",
      "synopsis          19923\n",
      "dtype: int64\n"
     ]
    }
   ],
   "source": [
    "# Ver valores nulos del dataframe\n",
    "print(\"===== Valores nulos =====\")\n",
    "print(df_limpio.isnull().sum())\n",
    "\n"
   ]
  },
  {
   "cell_type": "code",
   "execution_count": null,
   "id": "fd3ed812",
   "metadata": {},
   "outputs": [
    {
     "name": "stdout",
     "output_type": "stream",
     "text": [
      "===== Valores nulos tratados =====\n",
      "manga_id          0\n",
      "title             0\n",
      "type              0\n",
      "score             0\n",
      "scored_by         0\n",
      "status            0\n",
      "volumes           0\n",
      "chapters          0\n",
      "members           0\n",
      "favorites         0\n",
      "genres            0\n",
      "themes            0\n",
      "demographics      0\n",
      "authors           0\n",
      "serializations    0\n",
      "synopsis          0\n",
      "dtype: int64\n"
     ]
    }
   ],
   "source": [
    "print(\"\\n===== Tratamineto de nulos... =====\")\n",
    "\n",
    "df_limpio.score.fillna(df_limpio.score.mean(), inplace=True)\n",
    "df_limpio.volumes.fillna(df_limpio.volumes.median(), inplace=True)\n",
    "df_limpio.chapters.fillna(df_limpio.chapters.median(), inplace=True)\n",
    "df_limpio.synopsis.fillna('', inplace=True)\n",
    "\n",
    "df = df_limpio.copy()\n",
    "print(\"\\n===== Verificación de nulos después del tratamiento =====\")\n",
    "print(df_limpio.isnull().sum())"
   ]
  },
  {
   "cell_type": "code",
   "execution_count": null,
   "id": "89a39d48",
   "metadata": {},
   "outputs": [
    {
     "data": {
      "image/png": "[encoded data removed]",
      "text/plain": [
       "<Figure size 1000x600 with 1 Axes>"
      ]
     },
     "metadata": {},
     "output_type": "display_data"
    }
   ],
   "source": [
    "#-----------------------#\n",
    "# Eda y visualizaciones #\n",
    "#-----------------------#\n",
    "\n",
    "print(\"\\n\\n===== Iniciando Análisis Exploratorio de Datos (EDA) =====\")\n",
    "    \n",
    "# --- Gráfico 1: Distribución de Puntuaciones ---\n",
    "plt.figure(figsize=(10,6))\n",
    "sns.histplot(data=df, x='score', bins=30, kde=True)\n",
    "\n",
    "plt.title(\"Distibucion de puntuaciones de los mangas\", fontsize=16)\n",
    "plt.xlabel(\"Puntuacion (Score)\", fontsize=12)\n",
    "plt.ylabel(\"Frecuencia (Cantidad de Mangas)\", fontsize=12)\n",
    "\n",
    "\n",
    "\n",
    "plt.show()"
   ]
  },
  {
   "cell_type": "code",
   "execution_count": null,
   "id": "1eb06417",
   "metadata": {},
   "outputs": [
    {
     "name": "stdout",
     "output_type": "stream",
     "text": [
      "===== Top 10 Mangas mas populares=====\n"
     ]
    },
    {
     "data": {
      "application/vnd.microsoft.datawrangler.viewer.v0+json": {
       "columns": [
        {
         "name": "index",
         "rawType": "int64",
         "type": "integer"
        },
        {
         "name": "title",
         "rawType": "object",
         "type": "string"
        },
        {
         "name": "score",
         "rawType": "float64",
         "type": "float"
        },
        {
         "name": "members",
         "rawType": "int64",
         "type": "integer"
        },
        {
         "name": "genres",
         "rawType": "object",
         "type": "string"
        }
       ],
       "ref": "fb23a581-3b7d-4dcc-81cb-4cf2cec12039",
       "rows": [
        [
         "0",
         "Berserk",
         "9.47",
         "643969",
         "['Action', 'Adventure', 'Award Winning', 'Drama', 'Fantasy', 'Horror', 'Supernatural']"
        ],
        [
         "22",
         "Shingeki no Kyojin",
         "8.55",
         "635373",
         "['Action', 'Award Winning', 'Drama']"
        ],
        [
         "1",
         "One Piece",
         "9.22",
         "579557",
         "['Action', 'Adventure', 'Fantasy']"
        ],
        [
         "8",
         "Chainsaw Man",
         "8.75",
         "569114",
         "['Action', 'Award Winning', 'Supernatural']"
        ],
        [
         "27",
         "Tokyo Ghoul",
         "8.52",
         "480001",
         "['Action', 'Fantasy', 'Horror']"
        ],
        [
         "11",
         "One Punch-Man",
         "8.75",
         "457481",
         "['Action', 'Comedy']"
        ],
        [
         "15",
         "Solo Leveling",
         "8.68",
         "435457",
         "['Action', 'Adventure', 'Fantasy']"
        ],
        [
         "179",
         "Boku no Hero Academia",
         "8.09",
         "424581",
         "['Action']"
        ],
        [
         "100",
         "Kimetsu no Yaiba",
         "8.23",
         "414593",
         "['Action', 'Fantasy']"
        ],
        [
         "3",
         "Oyasumi Punpun",
         "9.02",
         "413897",
         "['Drama', 'Slice of Life']"
        ]
       ],
       "shape": {
        "columns": 4,
        "rows": 10
       }
      },
      "text/html": [
       "<div>\n",
       "<style scoped>\n",
       "    .dataframe tbody tr th:only-of-type {\n",
       "        vertical-align: middle;\n",
       "    }\n",
       "\n",
       "    .dataframe tbody tr th {\n",
       "        vertical-align: top;\n",
       "    }\n",
       "\n",
       "    .dataframe thead th {\n",
       "        text-align: right;\n",
       "    }\n",
       "</style>\n",
       "<table border=\"1\" class=\"dataframe\">\n",
       "  <thead>\n",
       "    <tr style=\"text-align: right;\">\n",
       "      <th></th>\n",
       "      <th>title</th>\n",
       "      <th>score</th>\n",
       "      <th>members</th>\n",
       "      <th>genres</th>\n",
       "    </tr>\n",
       "  </thead>\n",
       "  <tbody>\n",
       "    <tr>\n",
       "      <th>0</th>\n",
       "      <td>Berserk</td>\n",
       "      <td>9.47</td>\n",
       "      <td>643969</td>\n",
       "      <td>['Action', 'Adventure', 'Award Winning', 'Dram...</td>\n",
       "    </tr>\n",
       "    <tr>\n",
       "      <th>22</th>\n",
       "      <td>Shingeki no Kyojin</td>\n",
       "      <td>8.55</td>\n",
       "      <td>635373</td>\n",
       "      <td>['Action', 'Award Winning', 'Drama']</td>\n",
       "    </tr>\n",
       "    <tr>\n",
       "      <th>1</th>\n",
       "      <td>One Piece</td>\n",
       "      <td>9.22</td>\n",
       "      <td>579557</td>\n",
       "      <td>['Action', 'Adventure', 'Fantasy']</td>\n",
       "    </tr>\n",
       "    <tr>\n",
       "      <th>8</th>\n",
       "      <td>Chainsaw Man</td>\n",
       "      <td>8.75</td>\n",
       "      <td>569114</td>\n",
       "      <td>['Action', 'Award Winning', 'Supernatural']</td>\n",
       "    </tr>\n",
       "    <tr>\n",
       "      <th>27</th>\n",
       "      <td>Tokyo Ghoul</td>\n",
       "      <td>8.52</td>\n",
       "      <td>480001</td>\n",
       "      <td>['Action', 'Fantasy', 'Horror']</td>\n",
       "    </tr>\n",
       "    <tr>\n",
       "      <th>11</th>\n",
       "      <td>One Punch-Man</td>\n",
       "      <td>8.75</td>\n",
       "      <td>457481</td>\n",
       "      <td>['Action', 'Comedy']</td>\n",
       "    </tr>\n",
       "    <tr>\n",
       "      <th>15</th>\n",
       "      <td>Solo Leveling</td>\n",
       "      <td>8.68</td>\n",
       "      <td>435457</td>\n",
       "      <td>['Action', 'Adventure', 'Fantasy']</td>\n",
       "    </tr>\n",
       "    <tr>\n",
       "      <th>179</th>\n",
       "      <td>Boku no Hero Academia</td>\n",
       "      <td>8.09</td>\n",
       "      <td>424581</td>\n",
       "      <td>['Action']</td>\n",
       "    </tr>\n",
       "    <tr>\n",
       "      <th>100</th>\n",
       "      <td>Kimetsu no Yaiba</td>\n",
       "      <td>8.23</td>\n",
       "      <td>414593</td>\n",
       "      <td>['Action', 'Fantasy']</td>\n",
       "    </tr>\n",
       "    <tr>\n",
       "      <th>3</th>\n",
       "      <td>Oyasumi Punpun</td>\n",
       "      <td>9.02</td>\n",
       "      <td>413897</td>\n",
       "      <td>['Drama', 'Slice of Life']</td>\n",
       "    </tr>\n",
       "  </tbody>\n",
       "</table>\n",
       "</div>"
      ],
      "text/plain": [
       "                     title  score  members  \\\n",
       "0                  Berserk   9.47   643969   \n",
       "22      Shingeki no Kyojin   8.55   635373   \n",
       "1                One Piece   9.22   579557   \n",
       "8             Chainsaw Man   8.75   569114   \n",
       "27             Tokyo Ghoul   8.52   480001   \n",
       "11           One Punch-Man   8.75   457481   \n",
       "15           Solo Leveling   8.68   435457   \n",
       "179  Boku no Hero Academia   8.09   424581   \n",
       "100       Kimetsu no Yaiba   8.23   414593   \n",
       "3           Oyasumi Punpun   9.02   413897   \n",
       "\n",
       "                                                genres  \n",
       "0    ['Action', 'Adventure', 'Award Winning', 'Dram...  \n",
       "22                ['Action', 'Award Winning', 'Drama']  \n",
       "1                   ['Action', 'Adventure', 'Fantasy']  \n",
       "8          ['Action', 'Award Winning', 'Supernatural']  \n",
       "27                     ['Action', 'Fantasy', 'Horror']  \n",
       "11                                ['Action', 'Comedy']  \n",
       "15                  ['Action', 'Adventure', 'Fantasy']  \n",
       "179                                         ['Action']  \n",
       "100                              ['Action', 'Fantasy']  \n",
       "3                           ['Drama', 'Slice of Life']  "
      ]
     },
     "metadata": {},
     "output_type": "display_data"
    }
   ],
   "source": [
    "# --- Gráfico 2: Top 10 Mangas más Populares ---\n",
    "top_10_populares = df.sort_values(by=\"members\", ascending=False).head(10)\n",
    "# Ordenar por cantidad de miembros \n",
    "print(\"===== Top 10 Mangas mas populares =====\")\n",
    "display(top_10_populares[[\"title\", \"score\", \"members\", \"genres\"]])"
   ]
  },
  {
   "cell_type": "code",
   "execution_count": null,
   "id": "80b84f03",
   "metadata": {},
   "outputs": [
    {
     "data": {
      "image/png": "[encoded data removed]",
      "text/plain": [
       "<Figure size 1200x800 with 1 Axes>"
      ]
     },
     "metadata": {},
     "output_type": "display_data"
    }
   ],
   "source": [
    "plt.figure(figsize=(12,8))\n",
    "sns.barplot(data= top_10_populares, y=\"members\", x=\"title\", palette=\"viridis\")\n",
    "\n",
    "plt.title(\"Top 10 Mangas mas populares (por # de Miembros)\", fontsize=16)\n",
    "plt.ylabel(\"Cantidad de Miembros\", fontsize=12)\n",
    "plt.xlabel(\"Nombre del Manga\", fontsize=12)\n",
    "plt.xticks(rotation=45, ha='right')\n",
    "plt.tight_layout()\n",
    "\n",
    "\n",
    "\n",
    "plt.show()"
   ]
  },
  {
   "cell_type": "code",
   "execution_count": null,
   "id": "da33d19b",
   "metadata": {},
   "outputs": [
    {
     "name": "stdout",
     "output_type": "stream",
     "text": [
      "===== Top Generos de manga mas populares =====\n",
      "genres\n",
      "['Hentai']         9046\n",
      "['Comedy'          8697\n",
      "['Boys Love'       8572\n",
      "'Romance']         8086\n",
      "['Action'          7927\n",
      "'Supernatural']    6876\n",
      "'Erotica']         5789\n",
      "['Romance']        5305\n",
      "'Fantasy']         4604\n",
      "['Drama'           4172\n",
      "Name: count, dtype: int64\n",
      "\n",
      "===== Top tipos de libros mas populares =====\n",
      "type\n",
      "manga          44077\n",
      "light_novel    10224\n",
      "one_shot        5248\n",
      "manhwa          2986\n",
      "doujinshi       1816\n",
      "manhua           350\n",
      "novel            132\n",
      "Name: count, dtype: int64\n"
     ]
    }
   ],
   "source": [
    "# --- Gráfico 3: Tipos de Libros más Comunes y Generos mas populares ---\n",
    "\n",
    "# Procesar la columna de geners para tenere un genero por fila \n",
    "# .explode() toma el data frame y por cada lista en la columna type, crea una nueva fila para cada elemento de la lista\n",
    "types = df['type'].str.split(', ').explode() #transforma las filas de mangas en filas de type\n",
    "genres = df['genres'].str.split(', ').explode()\n",
    "\n",
    "# Contar la frecuencia de cada genero, nos quedamos con el top 10\n",
    "top_10_type = types.value_counts().head(10) \n",
    "top_10_genres = genres.value_counts().head(10) \n",
    "print(\"===== Top Generos de manga mas populares =====\")\n",
    "print(top_10_genres)\n",
    "print(\"\\n===== Top tipos de libros mas populares =====\")\n",
    "print(top_10_type)"
   ]
  },
  {
   "cell_type": "code",
   "execution_count": null,
   "id": "83632f33",
   "metadata": {},
   "outputs": [
    {
     "data": {
      "image/png": "[encoded data removed]",
      "text/plain": [
       "<Figure size 640x480 with 1 Axes>"
      ]
     },
     "metadata": {},
     "output_type": "display_data"
    }
   ],
   "source": [
    "# Libros más Comunes\n",
    "plt.figure(figsize=(10, 6))\n",
    "sns.barplot(y=top_10_type.values, x=top_10_type.index, palette='rocket')\n",
    "\n",
    "plt.title('Tipos de Libros más Comunes', fontsize=16)\n",
    "plt.ylabel('Cantidad de Mangas', fontsize=12)\n",
    "plt.xlabel('Tipo', fontsize=12)\n",
    "plt.tight_layout()\n",
    "\n",
    "\n",
    "plt.show()"
   ]
  },
  {
   "cell_type": "code",
   "execution_count": null,
   "id": "69c15df7",
   "metadata": {},
   "outputs": [
    {
     "data": {
      "image/png": "[encoded data removed]",
      "text/plain": [
       "<Figure size 640x480 with 1 Axes>"
      ]
     },
     "metadata": {},
     "output_type": "display_data"
    }
   ],
   "source": [
    "# Generos mas populares\n",
    "plt.figure(figsize=(10, 6))\n",
    "sns.barplot(y=top_10_genres.values, x=top_10_genres.index, palette='viridis')\n",
    "\n",
    "plt.title('Tipos de Generos más Populares', fontsize=16)\n",
    "plt.ylabel('Cantidad de Mangas', fontsize=12)\n",
    "plt.xlabel('Generos', fontsize=12)\n",
    "plt.xticks(rotation=45, ha='right')\n",
    "plt.tight_layout()\n",
    "\n",
    "\n",
    "\n",
    "plt.show()"
   ]
  },
  {
   "cell_type": "code",
   "execution_count": null,
   "id": "46fa15e6",
   "metadata": {},
   "outputs": [],
   "source": [
    "# --- Gráfico 4: Heatmap de Correlaciones Numéricas ---\n",
    "\n",
    "df_numerico = df.select_dtypes(include=np.number)\n",
    "mx_corr = df_numerico.corr()\n",
    "plt.figure(figsize=(12, 10))\n",
    "sns.heatmap(mx_corr, annot=True, cmap='coolwarm', fmt=\".2f\")\n",
    "plt.title('Heatmap de Correlación entre Variables Numéricas', fontsize=16)\n",
    "\n",
    "\n",
    "plt.show()"
   ]
  },
  {
   "cell_type": "code",
   "execution_count": null,
   "id": "fc9baf23",
   "metadata": {},
   "outputs": [],
   "source": [
    "# --- Gráfico 5: Pairplot (Varibles numericas) ---\n",
    "\n",
    "# 1. Seleccionar solo un puñado de columnas clave para comparar entre sí.\n",
    "columnas_interesantes = ['score', 'members', 'volumes', 'favorites']\n",
    "\n",
    "# 2. Crear el pairplot solo con este subconjunto.\n",
    "#    .dropna() es importante para eliminar filas con valores nulos antes de graficar.\n",
    "print(\"\\nGenerando pairplot para variables seleccionadas (puede tardar un momento)...\")\n",
    "sns.pairplot(df[columnas_interesantes])\n",
    "\n",
    "\n",
    "\n",
    "plt.show()"
   ]
  },
  {
   "cell_type": "code",
   "execution_count": null,
   "id": "6a27b3c5",
   "metadata": {},
   "outputs": [
    {
     "name": "stdout",
     "output_type": "stream",
     "text": [
      "Asimetria de Score:  0.2953381106491386\n",
      "\n",
      "Curtosis de Score:  8.568717962727156\n"
     ]
    }
   ],
   "source": [
    "# --- Mediciones Estadisticas --- \n",
    "\n",
    "print(\"Asimetria de Score: \", df[\"score\"].skew())\n",
    "print(\"\\nCurtosis de Score: \", df[\"score\"].kurtosis())\n"
   ]
  },
  {
   "cell_type": "code",
   "execution_count": null,
   "id": "1013682e",
   "metadata": {},
   "outputs": [
    {
     "data": {
      "application/vnd.microsoft.datawrangler.viewer.v0+json": {
       "columns": [
        {
         "name": "index",
         "rawType": "int64",
         "type": "integer"
        },
        {
         "name": "title",
         "rawType": "object",
         "type": "string"
        },
        {
         "name": "score",
         "rawType": "float64",
         "type": "float"
        },
        {
         "name": "members",
         "rawType": "int64",
         "type": "integer"
        },
        {
         "name": "genres",
         "rawType": "object",
         "type": "string"
        }
       ],
       "ref": "43189433-db62-4c95-b6a0-09073b1066af",
       "rows": [
        [
         "0",
         "Berserk",
         "9.47",
         "643969",
         "['Action', 'Adventure', 'Award Winning', 'Drama', 'Fantasy', 'Horror', 'Supernatural']"
        ],
        [
         "22",
         "Shingeki no Kyojin",
         "8.55",
         "635373",
         "['Action', 'Award Winning', 'Drama']"
        ],
        [
         "1",
         "One Piece",
         "9.22",
         "579557",
         "['Action', 'Adventure', 'Fantasy']"
        ],
        [
         "8",
         "Chainsaw Man",
         "8.75",
         "569114",
         "['Action', 'Award Winning', 'Supernatural']"
        ],
        [
         "27",
         "Tokyo Ghoul",
         "8.52",
         "480001",
         "['Action', 'Fantasy', 'Horror']"
        ],
        [
         "11",
         "One Punch-Man",
         "8.75",
         "457481",
         "['Action', 'Comedy']"
        ],
        [
         "15",
         "Solo Leveling",
         "8.68",
         "435457",
         "['Action', 'Adventure', 'Fantasy']"
        ],
        [
         "179",
         "Boku no Hero Academia",
         "8.09",
         "424581",
         "['Action']"
        ],
        [
         "100",
         "Kimetsu no Yaiba",
         "8.23",
         "414593",
         "['Action', 'Fantasy']"
        ],
        [
         "3",
         "Oyasumi Punpun",
         "9.02",
         "413897",
         "['Drama', 'Slice of Life']"
        ]
       ],
       "shape": {
        "columns": 4,
        "rows": 10
       }
      },
      "text/html": [
       "<div>\n",
       "<style scoped>\n",
       "    .dataframe tbody tr th:only-of-type {\n",
       "        vertical-align: middle;\n",
       "    }\n",
       "\n",
       "    .dataframe tbody tr th {\n",
       "        vertical-align: top;\n",
       "    }\n",
       "\n",
       "    .dataframe thead th {\n",
       "        text-align: right;\n",
       "    }\n",
       "</style>\n",
       "<table border=\"1\" class=\"dataframe\">\n",
       "  <thead>\n",
       "    <tr style=\"text-align: right;\">\n",
       "      <th></th>\n",
       "      <th>title</th>\n",
       "      <th>score</th>\n",
       "      <th>members</th>\n",
       "      <th>genres</th>\n",
       "    </tr>\n",
       "  </thead>\n",
       "  <tbody>\n",
       "    <tr>\n",
       "      <th>0</th>\n",
       "      <td>Berserk</td>\n",
       "      <td>9.47</td>\n",
       "      <td>643969</td>\n",
       "      <td>['Action', 'Adventure', 'Award Winning', 'Dram...</td>\n",
       "    </tr>\n",
       "    <tr>\n",
       "      <th>22</th>\n",
       "      <td>Shingeki no Kyojin</td>\n",
       "      <td>8.55</td>\n",
       "      <td>635373</td>\n",
       "      <td>['Action', 'Award Winning', 'Drama']</td>\n",
       "    </tr>\n",
       "    <tr>\n",
       "      <th>1</th>\n",
       "      <td>One Piece</td>\n",
       "      <td>9.22</td>\n",
       "      <td>579557</td>\n",
       "      <td>['Action', 'Adventure', 'Fantasy']</td>\n",
       "    </tr>\n",
       "    <tr>\n",
       "      <th>8</th>\n",
       "      <td>Chainsaw Man</td>\n",
       "      <td>8.75</td>\n",
       "      <td>569114</td>\n",
       "      <td>['Action', 'Award Winning', 'Supernatural']</td>\n",
       "    </tr>\n",
       "    <tr>\n",
       "      <th>27</th>\n",
       "      <td>Tokyo Ghoul</td>\n",
       "      <td>8.52</td>\n",
       "      <td>480001</td>\n",
       "      <td>['Action', 'Fantasy', 'Horror']</td>\n",
       "    </tr>\n",
       "    <tr>\n",
       "      <th>11</th>\n",
       "      <td>One Punch-Man</td>\n",
       "      <td>8.75</td>\n",
       "      <td>457481</td>\n",
       "      <td>['Action', 'Comedy']</td>\n",
       "    </tr>\n",
       "    <tr>\n",
       "      <th>15</th>\n",
       "      <td>Solo Leveling</td>\n",
       "      <td>8.68</td>\n",
       "      <td>435457</td>\n",
       "      <td>['Action', 'Adventure', 'Fantasy']</td>\n",
       "    </tr>\n",
       "    <tr>\n",
       "      <th>179</th>\n",
       "      <td>Boku no Hero Academia</td>\n",
       "      <td>8.09</td>\n",
       "      <td>424581</td>\n",
       "      <td>['Action']</td>\n",
       "    </tr>\n",
       "    <tr>\n",
       "      <th>100</th>\n",
       "      <td>Kimetsu no Yaiba</td>\n",
       "      <td>8.23</td>\n",
       "      <td>414593</td>\n",
       "      <td>['Action', 'Fantasy']</td>\n",
       "    </tr>\n",
       "    <tr>\n",
       "      <th>3</th>\n",
       "      <td>Oyasumi Punpun</td>\n",
       "      <td>9.02</td>\n",
       "      <td>413897</td>\n",
       "      <td>['Drama', 'Slice of Life']</td>\n",
       "    </tr>\n",
       "  </tbody>\n",
       "</table>\n",
       "</div>"
      ],
      "text/plain": [
       "                     title  score  members  \\\n",
       "0                  Berserk   9.47   643969   \n",
       "22      Shingeki no Kyojin   8.55   635373   \n",
       "1                One Piece   9.22   579557   \n",
       "8             Chainsaw Man   8.75   569114   \n",
       "27             Tokyo Ghoul   8.52   480001   \n",
       "11           One Punch-Man   8.75   457481   \n",
       "15           Solo Leveling   8.68   435457   \n",
       "179  Boku no Hero Academia   8.09   424581   \n",
       "100       Kimetsu no Yaiba   8.23   414593   \n",
       "3           Oyasumi Punpun   9.02   413897   \n",
       "\n",
       "                                                genres  \n",
       "0    ['Action', 'Adventure', 'Award Winning', 'Dram...  \n",
       "22                ['Action', 'Award Winning', 'Drama']  \n",
       "1                   ['Action', 'Adventure', 'Fantasy']  \n",
       "8          ['Action', 'Award Winning', 'Supernatural']  \n",
       "27                     ['Action', 'Fantasy', 'Horror']  \n",
       "11                                ['Action', 'Comedy']  \n",
       "15                  ['Action', 'Adventure', 'Fantasy']  \n",
       "179                                         ['Action']  \n",
       "100                              ['Action', 'Fantasy']  \n",
       "3                           ['Drama', 'Slice of Life']  "
      ]
     },
     "execution_count": 16,
     "metadata": {},
     "output_type": "execute_result"
    }
   ],
   "source": [
    "# Muestra de los lista de mangas mas populares por score de miembros y generos\n",
    "print(\"===== Top manga mas populares (Score) =====\")\n",
    "top_10_populares[[\"title\", \"score\", \"members\", \"genres\"]]"
   ]
  },
  {
   "cell_type": "code",
   "execution_count": null,
   "id": "e7f03308",
   "metadata": {},
   "outputs": [
    {
     "data": {
      "image/png": "[encoded data removed]",
      "text/plain": [
       "<Figure size 1200x800 with 1 Axes>"
      ]
     },
     "metadata": {},
     "output_type": "display_data"
    },
    {
     "data": {
      "image/png": "[encoded data removed]",
      "text/plain": [
       "<Figure size 1200x800 with 1 Axes>"
      ]
     },
     "metadata": {},
     "output_type": "display_data"
    }
   ],
   "source": [
    "# En este caso no es necesario \"tratar\" los outliders por que nos sirven como indicacdores de podpularidad para recomendar un producto o similar \n",
    "\n",
    "# Demostracion y Visualaizacion de Outlidesds\n",
    "# Seleccionamos las columnas numéricas que queremos inspeccionar\n",
    "df_num_boxA = df_numerico[[\"score\", \"scored_by\",\"members\"]]\n",
    "\n",
    "df_num_boxB = df_numerico[[\"volumes\", \"chapters\",\"favorites\"]]\n",
    "# Creamos la figura\n",
    "plt.figure(figsize=(12, 8))\n",
    "\n",
    "# Creamos el boxplot\n",
    "# sns.boxplot es la función de Seaborn para este tipo de gráfico.\n",
    "sns.boxplot(data=df_num_boxA)\n",
    "\n",
    "# Añadimos títulos y etiquetas\n",
    "plt.title('Visualización de Outliers con Box Plots', fontsize=16)\n",
    "plt.ylabel('Valores', fontsize=12)\n",
    "\n",
    "# Rotamos las etiquetas del eje X para que no se superpongan\n",
    "plt.xticks(rotation=45)\n",
    "\n",
    "# Mostramos el gráfico\n",
    "\n",
    "plt.figure(figsize=(12, 8))\n",
    "\n",
    "sns.boxplot(data=df_num_boxB)\n",
    "\n",
    "# Añadimos títulos y etiquetas\n",
    "plt.title('Visualización de Outliers con Box Plots', fontsize=16)\n",
    "plt.ylabel('Valores', fontsize=12)\n",
    "\n",
    "# Rotamos las etiquetas del eje X para que no se superpongan\n",
    "plt.xticks(rotation=45)\n",
    "\n",
    "plt.show()"
   ]
  },
  {
   "cell_type": "code",
   "execution_count": null,
   "id": "6e472c97",
   "metadata": {},
   "outputs": [],
   "source": [
    "#-----------------------------------------------------#\n",
    "# Modelo 1: Recomendaror Basado en contenido (TF-IDF) #\n",
    "#-----------------------------------------------------#\n",
    "\n",
    "print(\"\\n===== Construyendo Modelo 1: Recomendador Basado en Contenido =====\")\n",
    "\n",
    "# Ingenieria de caracteristicas a partir de texto (TF-IDF) para contenido\n",
    "# Definir todas las columnas de texto que queremos combinar.\n",
    "columnas_de_contenido = ['genres', 'themes', 'demographics', 'authors', 'type', 'serializations', 'synopsis']\n",
    "\n",
    "# Para vitar error llenar con un espacio vacio cualquier posible nulo\n",
    "for col in columnas_de_contenido:\n",
    "    df[col].fillna('', inplace=True)\n",
    "\n",
    "# Preparar columnas con multiples palabras \n",
    "#    Para 'Authors' y 'Serializations', unimos los nombres para que se traten como una sola entidad.\n",
    "#    Ejemplo: \"Miura, Kentaro\" se convierte en \"Miura,Kentaro\" y el vectorizador lo tratará como un solo \"token\".\n",
    "df['authors_clean'] = df['authors'].str.replace(' ', '')\n",
    "df['serializations_clean'] = df['serializations'].str.replace(' ', '')"
   ]
  },
  {
   "cell_type": "code",
   "execution_count": null,
   "id": "053491cb",
   "metadata": {},
   "outputs": [
    {
     "name": "stdout",
     "output_type": "stream",
     "text": [
      "===== Ejemplo de la nueva columna contenido =====\n"
     ]
    },
    {
     "data": {
      "application/vnd.microsoft.datawrangler.viewer.v0+json": {
       "columns": [
        {
         "name": "index",
         "rawType": "int64",
         "type": "integer"
        },
        {
         "name": "title",
         "rawType": "object",
         "type": "string"
        },
        {
         "name": "contenido",
         "rawType": "object",
         "type": "string"
        }
       ],
       "ref": "b9e325fb-8147-4c65-a3d3-c4a6883fce59",
       "rows": [
        [
         "0",
         "Berserk",
         "['Action', 'Adventure', 'Award Winning', 'Drama', 'Fantasy', 'Horror', 'Supernatural'] ['Gore', 'Military', 'Mythology', 'Psychological'] ['Seinen'] [{'id':1868,'first_name':'Kentarou','last_name':'Miura','role':'Story&Art'},{'id':49592,'first_name':'','last_name':'StudioGaga','role':'Art'}] manga Guts, a former mercenary now known as the \"Black Swordsman,\" is out for revenge. After a tumultuous childhood, he finally finds someone he respects and believes he can trust, only to have everything fall apart when this person takes away everything important to Guts for the purpose of fulfilling his own desires. Now marked for death, Guts becomes condemned to a fate in which he is relentlessly pursued by demonic beings.\n\nSetting out on a dreadful quest riddled with misfortune, Guts, armed with a massive sword and monstrous strength, will let nothing stop him, not even death itself, until he is finally able to take the head of the one who stripped him—and his loved one—of their humanity.\n\n[Written by MAL Rewrite]\n\nIncluded one-shot:\nVolume 14: Berserk: The Prototype ['YoungAnimal']"
        ],
        [
         "1",
         "One Piece",
         "['Action', 'Adventure', 'Fantasy'] [] ['Shounen'] [{'id':1881,'first_name':'Eiichiro','last_name':'Oda','role':'Story&Art'}] manga Gol D. Roger, a man referred to as the \"King of the Pirates,\" is set to be executed by the World Government. But just before his demise, he confirms the existence of a great treasure, One Piece, located somewhere within the vast ocean known as the Grand Line. Announcing that One Piece can be claimed by anyone worthy enough to reach it, the King of the Pirates is executed and the Great Age of Pirates begins.\n\nTwenty-two years later, a young man by the name of Monkey D. Luffy is ready to embark on his own adventure, searching for One Piece and striving to become the new King of the Pirates. Armed with just a straw hat, a small boat, and an elastic body, he sets out on a fantastic journey to gather his own crew and a worthy ship that will take them across the Grand Line to claim the greatest status on the high seas.\n\n[Written by MAL Rewrite] ['ShounenJump(Weekly)']"
        ],
        [
         "2",
         "JoJo no Kimyou na Bouken Part 7: Steel Ball Run",
         "['Action', 'Adventure', 'Mystery', 'Supernatural'] ['Historical'] ['Seinen', 'Shounen'] [{'id':2619,'first_name':'Hirohiko','last_name':'Araki','role':'Story&Art'}] manga In the American Old West, the world's greatest race is about to begin. Thousands line up in San Diego to travel over six thousand kilometers for a chance to win the grand prize of fifty million dollars. With the era of the horse reaching its end, contestants are allowed to use any kind of vehicle they wish. Competitors will have to endure grueling conditions, traveling up to a hundred kilometers a day through uncharted wastelands. The Steel Ball Run is truly a one-of-a-kind event.\n\nThe youthful Johnny Joestar, a crippled former horse racer, has come to San Diego to watch the start of the race. There he encounters Gyro Zeppeli, a racer with two steel balls at his waist instead of a gun. Johnny witnesses Gyro using one of his steel balls to unleash a fantastical power, compelling a man to fire his gun at himself during a duel. In the midst of the action, Johnny happens to touch the steel ball and feels a power surging through his legs, allowing him to stand up for the first time in two years. Vowing to find the secret of the steel balls, Johnny decides to compete in the race, and so begins his bizarre adventure across America on the Steel Ball Run.\n\n[Written by MAL Rewrite] ['UltraJump']"
        ],
        [
         "3",
         "Oyasumi Punpun",
         "['Drama', 'Slice of Life'] ['Psychological'] ['Seinen'] [{'id':2836,'first_name':'Inio','last_name':'Asano','role':'Story&Art'}] manga Punpun Onodera is a normal 11-year-old boy living in Japan. Hopelessly idealistic and romantic, Punpun begins to see his life take a subtle—though nonetheless startling—turn to the adult when he meets the new girl in his class, Aiko Tanaka. It is then that the quiet boy learns just how fickle maintaining a relationship can be, and the surmounting difficulties of transitioning from a naïve boyhood to a convoluted adulthood. When his father assaults his mother one night, Punpun realizes another thing: those whom he looked up to were not as impressive as he once thought.\n\nAs his problems increase, Punpun's once shy demeanor turns into voluntary reclusiveness. Rather than curing him of his problems and conflicting emotions, this merely intensifies them, sending him down the dark path of maturity in this grim coming-of-age saga.\n\n[Written by MAL Rewrite] ['BigComicSpirits']"
        ],
        [
         "4",
         "Fullmetal Alchemist",
         "['Action', 'Adventure', 'Award Winning', 'Drama', 'Fantasy'] ['Military'] ['Shounen'] [{'id':1874,'first_name':'Hiromu','last_name':'Arakawa','role':'Story&Art'}] manga Alchemists are knowledgeable and naturally talented individuals who can manipulate and modify matter due to their art. Yet despite the wide range of possibilities, alchemy is not as all-powerful as most would believe. Human transmutation is strictly forbidden, and whoever attempts it risks severe consequences. Even so, siblings Edward and Alphonse Elric decide to ignore this great taboo and bring their mother back to life. Unfortunately, not only do they fail in resurrecting her, they also pay an extremely high price for their arrogance: Edward loses his left leg and Alphonse his entire body. Furthermore, Edward also gives up his right arm in order to seal his brother's soul into a suit of armor.\n\nYears later, the young alchemists travel across the country looking for the Philosopher's Stone, in the hopes of recovering their old bodies with its power. However, their quest for the fated stone also leads them to unravel far darker secrets than they could ever imagine.\n\n[Written by MAL Rewrite] ['ShounenGangan']"
        ]
       ],
       "shape": {
        "columns": 2,
        "rows": 5
       }
      },
      "text/html": [
       "<div>\n",
       "<style scoped>\n",
       "    .dataframe tbody tr th:only-of-type {\n",
       "        vertical-align: middle;\n",
       "    }\n",
       "\n",
       "    .dataframe tbody tr th {\n",
       "        vertical-align: top;\n",
       "    }\n",
       "\n",
       "    .dataframe thead th {\n",
       "        text-align: right;\n",
       "    }\n",
       "</style>\n",
       "<table border=\"1\" class=\"dataframe\">\n",
       "  <thead>\n",
       "    <tr style=\"text-align: right;\">\n",
       "      <th></th>\n",
       "      <th>title</th>\n",
       "      <th>contenido</th>\n",
       "    </tr>\n",
       "  </thead>\n",
       "  <tbody>\n",
       "    <tr>\n",
       "      <th>0</th>\n",
       "      <td>Berserk</td>\n",
       "      <td>['Action', 'Adventure', 'Award Winning', 'Dram...</td>\n",
       "    </tr>\n",
       "    <tr>\n",
       "      <th>1</th>\n",
       "      <td>One Piece</td>\n",
       "      <td>['Action', 'Adventure', 'Fantasy'] [] ['Shoune...</td>\n",
       "    </tr>\n",
       "    <tr>\n",
       "      <th>2</th>\n",
       "      <td>JoJo no Kimyou na Bouken Part 7: Steel Ball Run</td>\n",
       "      <td>['Action', 'Adventure', 'Mystery', 'Supernatur...</td>\n",
       "    </tr>\n",
       "    <tr>\n",
       "      <th>3</th>\n",
       "      <td>Oyasumi Punpun</td>\n",
       "      <td>['Drama', 'Slice of Life'] ['Psychological'] [...</td>\n",
       "    </tr>\n",
       "    <tr>\n",
       "      <th>4</th>\n",
       "      <td>Fullmetal Alchemist</td>\n",
       "      <td>['Action', 'Adventure', 'Award Winning', 'Dram...</td>\n",
       "    </tr>\n",
       "  </tbody>\n",
       "</table>\n",
       "</div>"
      ],
      "text/plain": [
       "                                             title  \\\n",
       "0                                          Berserk   \n",
       "1                                        One Piece   \n",
       "2  JoJo no Kimyou na Bouken Part 7: Steel Ball Run   \n",
       "3                                   Oyasumi Punpun   \n",
       "4                              Fullmetal Alchemist   \n",
       "\n",
       "                                           contenido  \n",
       "0  ['Action', 'Adventure', 'Award Winning', 'Dram...  \n",
       "1  ['Action', 'Adventure', 'Fantasy'] [] ['Shoune...  \n",
       "2  ['Action', 'Adventure', 'Mystery', 'Supernatur...  \n",
       "3  ['Drama', 'Slice of Life'] ['Psychological'] [...  \n",
       "4  ['Action', 'Adventure', 'Award Winning', 'Dram...  "
      ]
     },
     "metadata": {},
     "output_type": "display_data"
    },
    {
     "name": "stdout",
     "output_type": "stream",
     "text": [
      "\n",
      "===== Matriz de Características TF-IDF creada =====\n",
      "La forma de la matriz es: 64833\n"
     ]
    }
   ],
   "source": [
    "# Crear una \"súper columna\" de contenido que combina todo.\n",
    "# Añadir un espacio ' ' entre cada una para que se separen bien los términos.\n",
    "df['contenido'] = (df['genres'] + ' ' +\n",
    "                           df['themes'] + ' ' +\n",
    "                           df['demographics'] + ' ' +\n",
    "                           df['authors_clean'] + ' ' +\n",
    "                           df['type'] + ' ' +\n",
    "                           df['synopsis'] + ' ' +\n",
    "                           df['serializations_clean'])\n",
    "\n",
    "print(\"===== Ejemplo de la nueva columna contenido =====\")\n",
    "display(df[['title', 'contenido']].head())\n",
    "\n",
    "# Crear el objeto TfidfVectorizer, combierte el texto vectores numericos\n",
    "#    Añadimos 'stop_words' para que ignore palabras comunes en inglés de la sinopsis como 'a', 'the', 'is', etc., lo que mejora la calidad de las características.\n",
    "# --- Vectorización con TF-IDF ---\n",
    "tfidf = TfidfVectorizer(stop_words='english', max_features=20000)\n",
    "\n",
    "# Aplicar fit_transform a la columna 'contenidio'\n",
    "# Esto crea una matriz donde cada fila es un manga y cada columna un género (en este caso), con el valor TF-IDF correspondiente.\n",
    "# Demas de que esta matriz de caracteristicas si cabe en la memeria\n",
    "tfidf_matrix = tfidf.fit_transform(df['contenido'])\n",
    "print(f\"--- Matriz de Características TF-IDF creada con forma: {tfidf_matrix.shape} ---\")"
   ]
  },
  {
   "cell_type": "code",
   "execution_count": null,
   "id": "aac3e8bb",
   "metadata": {},
   "outputs": [],
   "source": [
    "# --- Cálculo de Similitud del Coseno ---\n",
    "# Crear una funcion de recomendacion por similitud del coseno\n",
    "# Crear una Serie para mapear titulos a indices del dataframa para busquedas rapidas\n",
    "\n",
    "indices = pd.Series(df.index, index=df['title']).drop_duplicates()\n",
    "cosine_sim_tfidf = cosine_similarity(tfidf_matrix, tfidf_matrix)\n",
    "print(f\"--- Matriz de Similitud del Coseno (TF-IDF) creada con forma: {cosine_sim_tfidf.shape} ---\")\n",
    "\n",
    "# Defir la funcion de recomendacion que calcula la similitud\n",
    "def recomendar_por_contenido(title, n_recommendations=10):\n",
    "    \"\"\"\n",
    "    Recibe el título de un manga y devuelve una lista de los 'n' mangas más similares.\n",
    "    \"\"\"\n",
    "    # Verificar que el manga exista en nuestros datos (df)\n",
    "    if title not in indices:\n",
    "        return f\"El manga '{title}' no se encontró en el dataset.\"\n",
    "    \n",
    "    # Obtener el indice del manga de entrada\n",
    "    idx = indices[title]\n",
    "\n",
    "    # Calcular la similitud del coseno de ESE manga contra TODOS los demás\n",
    "    simi_scores = cosine_similarity(tfidf_matrix[idx], tfidf_matrix)\n",
    "\n",
    "    # Convertir los resultados en una lista de tuplas (incice, puntuacion)\n",
    "    simi_scores = list(enumerate(simi_scores[0]))\n",
    "\n",
    "    # Ordenar la lista de mayor a menor similutud\n",
    "    simi_scores = sorted(simi_scores, key=lambda x: x[1], reverse=True)\n",
    "\n",
    "    # Quedarse con las 'n' mejores, excluyendo la primera (que es el propio manga)\n",
    "    simi_scores = simi_scores[1:n_recommendations+1]\n",
    "\n",
    "    # Obtener los índices de los mangas recomendados\n",
    "    manga_indices = [i[0] for i in simi_scores]\n",
    "\n",
    "    # Devolver los títulos de esos mangas\n",
    "    return df['title'].iloc[manga_indices]"
   ]
  },
  {
   "cell_type": "code",
   "execution_count": 43,
   "id": "dc3232ce",
   "metadata": {},
   "outputs": [
    {
     "name": "stdout",
     "output_type": "stream",
     "text": [
      "\n",
      "--- Probando el recomendador basado en contenido ---\n",
      "\n",
      "===== Recomendaciones para 'Berserk' =====\n"
     ]
    },
    {
     "data": {
      "application/vnd.microsoft.datawrangler.viewer.v0+json": {
       "columns": [
        {
         "name": "index",
         "rawType": "int64",
         "type": "integer"
        },
        {
         "name": "title",
         "rawType": "object",
         "type": "string"
        }
       ],
       "ref": "ac154396-5a1b-43f5-baf4-4fb4911b0893",
       "rows": [
        [
         "19417",
         "Dead Word Puzzle"
        ],
        [
         "22848",
         "Shousetsu Berserk: Enryuu no Kishi"
        ],
        [
         "15399",
         "Doukyuusei no Macho-kun"
        ],
        [
         "29852",
         "Ultraman Tiga"
        ],
        [
         "15494",
         "Ourouden"
        ],
        [
         "60364",
         "Oshiete! Sabbath-san"
        ],
        [
         "30225",
         "Oresama no Ousama"
        ],
        [
         "11406",
         "Jinsei wa Barairo Da"
        ],
        [
         "15381",
         "Noa"
        ],
        [
         "4322",
         "Duranki"
        ]
       ],
       "shape": {
        "columns": 1,
        "rows": 10
       }
      },
      "text/plain": [
       "19417                      Dead Word Puzzle\n",
       "22848    Shousetsu Berserk: Enryuu no Kishi\n",
       "15399               Doukyuusei no Macho-kun\n",
       "29852                         Ultraman Tiga\n",
       "15494                              Ourouden\n",
       "60364                  Oshiete! Sabbath-san\n",
       "30225                     Oresama no Ousama\n",
       "11406                  Jinsei wa Barairo Da\n",
       "15381                                   Noa\n",
       "4322                                Duranki\n",
       "Name: title, dtype: object"
      ]
     },
     "metadata": {},
     "output_type": "display_data"
    },
    {
     "name": "stdout",
     "output_type": "stream",
     "text": [
      "\n",
      "===== Recomendaciones para 'Shingeki no Kyojin'=====\n"
     ]
    },
    {
     "data": {
      "application/vnd.microsoft.datawrangler.viewer.v0+json": {
       "columns": [
        {
         "name": "index",
         "rawType": "int64",
         "type": "integer"
        },
        {
         "name": "title",
         "rawType": "object",
         "type": "string"
        }
       ],
       "ref": "ac0e43ed-a33d-4d75-b289-8f61818b82ca",
       "rows": [
        [
         "1398",
         "Shingeki no Kyojin: Before the Fall"
        ],
        [
         "4758",
         "Shingeki! Kyojin Chuugakkou"
        ],
        [
         "1455",
         "Shingeki no Kyojin: Before the Fall"
        ],
        [
         "29187",
         "Shinryuu Idea"
        ],
        [
         "5862",
         "Chronos: Deep"
        ],
        [
         "27088",
         "Legend of Regios"
        ],
        [
         "27886",
         "Advance of Z: Flag of Titans"
        ],
        [
         "4282",
         "Shingeki no Kyojin: Kakuzetsu Toshi no Joou"
        ],
        [
         "1035",
         "Shingeki no Kyojin: Lost Girls"
        ],
        [
         "3174",
         "Saint Seiya Episode G"
        ]
       ],
       "shape": {
        "columns": 1,
        "rows": 10
       }
      },
      "text/plain": [
       "1398             Shingeki no Kyojin: Before the Fall\n",
       "4758                     Shingeki! Kyojin Chuugakkou\n",
       "1455             Shingeki no Kyojin: Before the Fall\n",
       "29187                                  Shinryuu Idea\n",
       "5862                                   Chronos: Deep\n",
       "27088                               Legend of Regios\n",
       "27886                   Advance of Z: Flag of Titans\n",
       "4282     Shingeki no Kyojin: Kakuzetsu Toshi no Joou\n",
       "1035                  Shingeki no Kyojin: Lost Girls\n",
       "3174                           Saint Seiya Episode G\n",
       "Name: title, dtype: object"
      ]
     },
     "metadata": {},
     "output_type": "display_data"
    }
   ],
   "source": [
    "print(\"\\n--- Probando el recomendador basado en contenido ---\") # Modelo 1\n",
    "\n",
    "# Ejemplo 1: Un manga muy conocido\n",
    "print(\"\\n===== Recomendaciones para 'Berserk' =====\")\n",
    "display(recomendar_por_contenido('Berserk'))\n",
    "\n",
    "# Ejemplo 2: Otro manga popular\n",
    "print(\"\\n===== Recomendaciones para 'Shingeki no Kyojin'=====\")\n",
    "display(recomendar_por_contenido('Shingeki no Kyojin'))"
   ]
  },
  {
   "cell_type": "code",
   "execution_count": null,
   "id": "53d46b8d",
   "metadata": {},
   "outputs": [
    {
     "name": "stdout",
     "output_type": "stream",
     "text": [
      "La puntuación media de todos los mangas (C) es: 6.95\n",
      "El número mínimo de votos para ser considerado (m) es: 994\n"
     ]
    }
   ],
   "source": [
    "#------------------------------------------------------------------------#\n",
    "# Modelo 2: Recomendadore Basado en popularidd (Clasificacion Ponderada) #\n",
    "#------------------------------------------------------------------------#\n",
    "\n",
    "print(\"\\n===== Construyendo Modelo 2: Recomendador Basado en Popularidad =====\")\n",
    "\n",
    "# --- Cálculo de Componentes para la Fórmula WR ---\n",
    "C = df.score.mean() # puntuacion promedio de todos los mangas\n",
    "print(f\"La puntuación media de todos los mangas (C) es: {C:.2f}\")\n",
    "\n",
    "m = df.scored_by.quantile(0.90) # unbral minimo de votos uso el percentil 90 entonces el maga tiene que tener mas votos que el 90% de los demas para esta entre los mas pupulares\n",
    "print(f\"El número mínimo de votos para ser considerado (m) es: {int(m)}\") #.quantile(0.90) calcula ese valor.\n",
    "\n"
   ]
  },
  {
   "cell_type": "code",
   "execution_count": null,
   "id": "a450b566",
   "metadata": {},
   "outputs": [
    {
     "name": "stdout",
     "output_type": "stream",
     "text": [
      "\n",
      "Número de mangas que superan el umbral para el ranking: 6488\n"
     ]
    }
   ],
   "source": [
    "# filtrar mangas que complen el requisito\n",
    "# nuevo df con mangas con sufuicientes votos\n",
    "mangas_calificados = df.copy().loc[df['scored_by'] >= m]\n",
    "print(f\"\\n--- Número de mangas que superan el umbral para el ranking: {mangas_calificados.shape[0]} ---\")"
   ]
  },
  {
   "cell_type": "code",
   "execution_count": 46,
   "id": "a599becb",
   "metadata": {},
   "outputs": [],
   "source": [
    "# Definir y aplicar la funcion de clasidicacion ponderada (WR)\n",
    "\n",
    "def WR_calificacion_ponderada(x, m=m, C=C):\n",
    "    # Parámetros:\n",
    "    #   x: Una fila del DataFrame.\n",
    "    #   m: El umbral mínimo de votos (calculado antes).\n",
    "    #   C: La media de todas las puntuaciones (calculado antes).\n",
    "\n",
    "    v = x.scored_by # numero de votos del manga\n",
    "    R = x.score # puntuacion del manga\n",
    "\n",
    "    # Cálculo de la calificación ponderada\n",
    "    return (v / (v + m) * R) + (m / (v + m) * C)\n"
   ]
  },
  {
   "cell_type": "code",
   "execution_count": null,
   "id": "b4e004d5",
   "metadata": {},
   "outputs": [
    {
     "name": "stdout",
     "output_type": "stream",
     "text": [
      "\n",
      "===== Top 10 Mangas por Popularidad Ponderada (Recomendaciones para nuevos usuarios) =====\n"
     ]
    },
    {
     "data": {
      "application/vnd.microsoft.datawrangler.viewer.v0+json": {
       "columns": [
        {
         "name": "index",
         "rawType": "int64",
         "type": "integer"
        },
        {
         "name": "title",
         "rawType": "object",
         "type": "string"
        },
        {
         "name": "score",
         "rawType": "float64",
         "type": "float"
        },
        {
         "name": "scored_by",
         "rawType": "int64",
         "type": "integer"
        },
        {
         "name": "WR",
         "rawType": "float64",
         "type": "float"
        }
       ],
       "ref": "9b7d707f-3b34-4144-8e56-8cfe37cb0a9e",
       "rows": [
        [
         "0",
         "Berserk",
         "9.47",
         "319696",
         "9.462174149279036"
        ],
        [
         "2",
         "JoJo no Kimyou na Bouken Part 7: Steel Ball Run",
         "9.3",
         "151433",
         "9.28464384874264"
        ],
        [
         "5",
         "Vagabond",
         "9.24",
         "129688",
         "9.222545017158401"
        ],
        [
         "1",
         "One Piece",
         "9.22",
         "355375",
         "9.213654969798986"
        ],
        [
         "9",
         "Monster",
         "9.15",
         "90296",
         "9.125993076265685"
        ],
        [
         "16",
         "Slam Dunk",
         "9.08",
         "70877",
         "9.050474710694079"
        ],
        [
         "6",
         "Vinland Saga",
         "9.05",
         "119797",
         "9.032679238786784"
        ],
        [
         "4",
         "Fullmetal Alchemist",
         "9.03",
         "153151",
         "9.016556086362153"
        ],
        [
         "3",
         "Oyasumi Punpun",
         "9.02",
         "168459",
         "9.007829238386421"
        ],
        [
         "18",
         "Grand Blue",
         "9.03",
         "63438",
         "8.997837222688947"
        ]
       ],
       "shape": {
        "columns": 4,
        "rows": 10
       }
      },
      "text/html": [
       "<div>\n",
       "<style scoped>\n",
       "    .dataframe tbody tr th:only-of-type {\n",
       "        vertical-align: middle;\n",
       "    }\n",
       "\n",
       "    .dataframe tbody tr th {\n",
       "        vertical-align: top;\n",
       "    }\n",
       "\n",
       "    .dataframe thead th {\n",
       "        text-align: right;\n",
       "    }\n",
       "</style>\n",
       "<table border=\"1\" class=\"dataframe\">\n",
       "  <thead>\n",
       "    <tr style=\"text-align: right;\">\n",
       "      <th></th>\n",
       "      <th>title</th>\n",
       "      <th>score</th>\n",
       "      <th>scored_by</th>\n",
       "      <th>WR</th>\n",
       "    </tr>\n",
       "  </thead>\n",
       "  <tbody>\n",
       "    <tr>\n",
       "      <th>0</th>\n",
       "      <td>Berserk</td>\n",
       "      <td>9.47</td>\n",
       "      <td>319696</td>\n",
       "      <td>9.462174</td>\n",
       "    </tr>\n",
       "    <tr>\n",
       "      <th>2</th>\n",
       "      <td>JoJo no Kimyou na Bouken Part 7: Steel Ball Run</td>\n",
       "      <td>9.30</td>\n",
       "      <td>151433</td>\n",
       "      <td>9.284644</td>\n",
       "    </tr>\n",
       "    <tr>\n",
       "      <th>5</th>\n",
       "      <td>Vagabond</td>\n",
       "      <td>9.24</td>\n",
       "      <td>129688</td>\n",
       "      <td>9.222545</td>\n",
       "    </tr>\n",
       "    <tr>\n",
       "      <th>1</th>\n",
       "      <td>One Piece</td>\n",
       "      <td>9.22</td>\n",
       "      <td>355375</td>\n",
       "      <td>9.213655</td>\n",
       "    </tr>\n",
       "    <tr>\n",
       "      <th>9</th>\n",
       "      <td>Monster</td>\n",
       "      <td>9.15</td>\n",
       "      <td>90296</td>\n",
       "      <td>9.125993</td>\n",
       "    </tr>\n",
       "    <tr>\n",
       "      <th>16</th>\n",
       "      <td>Slam Dunk</td>\n",
       "      <td>9.08</td>\n",
       "      <td>70877</td>\n",
       "      <td>9.050475</td>\n",
       "    </tr>\n",
       "    <tr>\n",
       "      <th>6</th>\n",
       "      <td>Vinland Saga</td>\n",
       "      <td>9.05</td>\n",
       "      <td>119797</td>\n",
       "      <td>9.032679</td>\n",
       "    </tr>\n",
       "    <tr>\n",
       "      <th>4</th>\n",
       "      <td>Fullmetal Alchemist</td>\n",
       "      <td>9.03</td>\n",
       "      <td>153151</td>\n",
       "      <td>9.016556</td>\n",
       "    </tr>\n",
       "    <tr>\n",
       "      <th>3</th>\n",
       "      <td>Oyasumi Punpun</td>\n",
       "      <td>9.02</td>\n",
       "      <td>168459</td>\n",
       "      <td>9.007829</td>\n",
       "    </tr>\n",
       "    <tr>\n",
       "      <th>18</th>\n",
       "      <td>Grand Blue</td>\n",
       "      <td>9.03</td>\n",
       "      <td>63438</td>\n",
       "      <td>8.997837</td>\n",
       "    </tr>\n",
       "  </tbody>\n",
       "</table>\n",
       "</div>"
      ],
      "text/plain": [
       "                                              title  score  scored_by  \\\n",
       "0                                           Berserk   9.47     319696   \n",
       "2   JoJo no Kimyou na Bouken Part 7: Steel Ball Run   9.30     151433   \n",
       "5                                          Vagabond   9.24     129688   \n",
       "1                                         One Piece   9.22     355375   \n",
       "9                                           Monster   9.15      90296   \n",
       "16                                        Slam Dunk   9.08      70877   \n",
       "6                                      Vinland Saga   9.05     119797   \n",
       "4                               Fullmetal Alchemist   9.03     153151   \n",
       "3                                    Oyasumi Punpun   9.02     168459   \n",
       "18                                       Grand Blue   9.03      63438   \n",
       "\n",
       "          WR  \n",
       "0   9.462174  \n",
       "2   9.284644  \n",
       "5   9.222545  \n",
       "1   9.213655  \n",
       "9   9.125993  \n",
       "16  9.050475  \n",
       "6   9.032679  \n",
       "4   9.016556  \n",
       "3   9.007829  \n",
       "18  8.997837  "
      ]
     },
     "metadata": {},
     "output_type": "display_data"
    }
   ],
   "source": [
    "# Aplicar la funcion a cada fila del dataset mangas_clasificados\n",
    "mangas_calificados['WR'] = mangas_calificados.apply(WR_calificacion_ponderada, axis=1)\n",
    "\n",
    "# Generar el top 10 de precomendacion por popularidad\n",
    "# Ordenamos el DataFrame por la nueva puntuación ponderada de mayor a menor.\n",
    "top_10_populares_ponderados = mangas_calificados.sort_values('WR', ascending=False).head(10)\n",
    "\n",
    "print(\"\\n===== Top 10 Mangas por Popularidad Ponderada (Recomendaciones para nuevos usuarios) =====\")\n",
    "# Mostramos las columnas más relevantes\n",
    "display(top_10_populares_ponderados[['title', 'score', 'scored_by', 'WR']])"
   ]
  },
  {
   "cell_type": "code",
   "execution_count": null,
   "id": "e25de045",
   "metadata": {},
   "outputs": [
    {
     "name": "stdout",
     "output_type": "stream",
     "text": [
      "\n",
      "===== Escenario 1: Usuario viendo un manga específico =====\n",
      "Sistema Híbrido Activado...\n",
      "Modo: Recomendación Basada en Contenido para 'Vinland Saga'\n",
      "\n",
      "===== Recomendaciones sugeridas =====\n"
     ]
    },
    {
     "data": {
      "application/vnd.microsoft.datawrangler.viewer.v0+json": {
       "columns": [
        {
         "name": "index",
         "rawType": "int64",
         "type": "integer"
        },
        {
         "name": "title",
         "rawType": "object",
         "type": "string"
        }
       ],
       "ref": "363c837c-4033-4f23-80b2-1793418e75dc",
       "rows": [
        [
         "14903",
         "Assassin's Creed Valhalla x Vinland Saga"
        ],
        [
         "29782",
         "Paramour"
        ],
        [
         "551",
         "Vagrant Soldier Ares"
        ],
        [
         "26766",
         "Areyo Hoshikuzu"
        ],
        [
         "63159",
         "Shinsei Roma Teikoku: Sanjuunen Sensou"
        ],
        [
         "4056",
         "Issak"
        ],
        [
         "43046",
         "Tetsujin Gamma"
        ],
        [
         "20335",
         "Kagefumi Merry"
        ],
        [
         "27500",
         "Inka: Nikuyoku ni Aragaenai Karada"
        ],
        [
         "48306",
         "Hanaregatai Kemono"
        ]
       ],
       "shape": {
        "columns": 1,
        "rows": 10
       }
      },
      "text/plain": [
       "14903    Assassin's Creed Valhalla x Vinland Saga\n",
       "29782                                    Paramour\n",
       "551                          Vagrant Soldier Ares\n",
       "26766                             Areyo Hoshikuzu\n",
       "63159      Shinsei Roma Teikoku: Sanjuunen Sensou\n",
       "4056                                        Issak\n",
       "43046                              Tetsujin Gamma\n",
       "20335                              Kagefumi Merry\n",
       "27500          Inka: Nikuyoku ni Aragaenai Karada\n",
       "48306                          Hanaregatai Kemono\n",
       "Name: title, dtype: object"
      ]
     },
     "metadata": {},
     "output_type": "display_data"
    },
    {
     "name": "stdout",
     "output_type": "stream",
     "text": [
      "\n",
      "===== Escenario 2: Usuario nuevo en la página principal =====\n",
      "Sistema Híbrido Activado...\n",
      "Modo: Recomendación de Popularidad para Nuevos Usuarios\n",
      "\n",
      "===== Recomendaciones sugeridas =====\n"
     ]
    },
    {
     "data": {
      "application/vnd.microsoft.datawrangler.viewer.v0+json": {
       "columns": [
        {
         "name": "index",
         "rawType": "int64",
         "type": "integer"
        },
        {
         "name": "title",
         "rawType": "object",
         "type": "string"
        }
       ],
       "ref": "c7b2dd34-4a39-48eb-9830-193abc5f350a",
       "rows": [
        [
         "0",
         "Berserk"
        ],
        [
         "2",
         "JoJo no Kimyou na Bouken Part 7: Steel Ball Run"
        ],
        [
         "5",
         "Vagabond"
        ],
        [
         "1",
         "One Piece"
        ],
        [
         "9",
         "Monster"
        ],
        [
         "16",
         "Slam Dunk"
        ],
        [
         "6",
         "Vinland Saga"
        ],
        [
         "4",
         "Fullmetal Alchemist"
        ],
        [
         "3",
         "Oyasumi Punpun"
        ],
        [
         "18",
         "Grand Blue"
        ]
       ],
       "shape": {
        "columns": 1,
        "rows": 10
       }
      },
      "text/plain": [
       "0                                             Berserk\n",
       "2     JoJo no Kimyou na Bouken Part 7: Steel Ball Run\n",
       "5                                            Vagabond\n",
       "1                                           One Piece\n",
       "9                                             Monster\n",
       "16                                          Slam Dunk\n",
       "6                                        Vinland Saga\n",
       "4                                 Fullmetal Alchemist\n",
       "3                                      Oyasumi Punpun\n",
       "18                                         Grand Blue\n",
       "Name: title, dtype: object"
      ]
     },
     "metadata": {},
     "output_type": "display_data"
    }
   ],
   "source": [
    "#---------------------------#\n",
    "# Modelo 3: Sistema Híbrido #\n",
    "#---------------------------#\n",
    "\n",
    "print(\"\\n\\n===== Construyendo Modelo 3: Sistema Híbrido =====\")\n",
    "\n",
    "def recomendar_hibrido(titulo_manga=None, n_recommendations=10):\n",
    "    \"\"\"\n",
    "    Función de recomendación híbrida.\n",
    "    - Si se proporciona un título, devuelve mangas similares (basado en contenido).\n",
    "    - Si no se proporciona un título, devuelve los mangas más populares (basado en popularidad ponderada).\n",
    "    \"\"\"\n",
    "    print(\"Sistema Híbrido Activado...\")\n",
    "    \n",
    "    # Comprobar si se ha proporcionado un título de manga\n",
    "    if titulo_manga:\n",
    "        # --- Lógica del Modelo 1: Basado en Contenido ---\n",
    "        print(f\"Modo: Recomendación Basada en Contenido para '{titulo_manga}'\")\n",
    "        # Llamar a la función que ya creamos en la fase anterior\n",
    "        recomendaciones = recomendar_por_contenido(titulo_manga, n_recommendations)\n",
    "        return recomendaciones\n",
    "    else:\n",
    "        # --- Lógica del Modelo 2: Basado en Popularidad ---\n",
    "        print(\"Modo: Recomendación de Popularidad para Nuevos Usuarios\")\n",
    "        # Devolver los títulos del DataFrame de popularidad que ya calculamos\n",
    "        recomendaciones = top_10_populares_ponderados['title'].head(n_recommendations)\n",
    "        return recomendaciones\n",
    "\n",
    "\n",
    "# Escenario 1: Un usuario está viendo \"Vinland Saga\". Queremos mangas similares.\n",
    "print(\"\\n===== Escenario 1: Usuario viendo un manga específico =====\")\n",
    "recomendaciones_contenido = recomendar_hibrido(titulo_manga='Vinland Saga')\n",
    "print(\"\\n===== Recomendaciones sugeridas =====\")\n",
    "display(recomendaciones_contenido)\n",
    "\n",
    "\n",
    "# Escenario 2: Un usuario nuevo llega a la página de inicio. Queremos mostrarle lo mejor.\n",
    "print(\"\\n===== Escenario 2: Usuario nuevo en la página principal =====\")\n",
    "recomendaciones_populares = recomendar_hibrido()\n",
    "print(\"\\n===== Recomendaciones sugeridas =====\")\n",
    "display(recomendaciones_populares)"
   ]
  },
  {
   "cell_type": "code",
   "execution_count": null,
   "id": "c92d0b55",
   "metadata": {},
   "outputs": [
    {
     "name": "stdout",
     "output_type": "stream",
     "text": [
      "===== Encontrando el número óptimo de clusters (k) con el Método del Codo =====\n",
      "(Esto puede tardar unos minutos, ya que entrenará varios modelos)\n"
     ]
    },
    {
     "data": {
      "image/png": "[encoded data removed]",
      "text/plain": [
       "<Figure size 1200x700 with 1 Axes>"
      ]
     },
     "metadata": {},
     "output_type": "display_data"
    }
   ],
   "source": [
    "#---------------------------------------------#\n",
    "# Analisis Avanzado 1: Clustering con K-Means #\n",
    "#---------------------------------------------#\n",
    "\n",
    "# Encontrar el numero optimo de clusters\n",
    "print(\"\\n\\n===== Análisis Avanzado: Clustering con K-Means =====\")\n",
    "print(\"\\n===== Encontrando el número óptimo de clusters (k) con el Método del Codo =====\")\n",
    "\n",
    "print(\"\\n(Esto puede tardar unos minutos, ya que entrenará varios modelos)\")\n",
    "range_n_clusters = range (2, 21) # probar de 2 a 20\n",
    "\n",
    "inercia = [] # inercia de cada modelo\n",
    "\n",
    "for k in range_n_clusters:\n",
    "    kmeans = KMeans(n_clusters=k, n_init='auto', random_state=42)\n",
    "    kmeans.fit(tfidf_matrix)\n",
    "\n",
    "    inercia.append(kmeans.inertia_) # .inertia_ es un atributo del modelo K-Means que nos da la suma de las distancias al cuadrado.\n",
    "\n",
    "# Graficamos los resultados\n",
    "plt.figure(figsize=(12, 7))\n",
    "plt.plot(range_n_clusters, inercia, marker='o', linestyle='--')\n",
    "plt.title('Método del Codo para encontrar el k óptimo', fontsize=16)\n",
    "plt.xlabel('Número de Clusters (k)', fontsize=12)\n",
    "plt.ylabel('Inercia', fontsize=12)\n",
    "plt.xticks(range_n_clusters)\n",
    "plt.grid(True)\n",
    "plt.show()"
   ]
  },
  {
   "cell_type": "code",
   "execution_count": null,
   "id": "7cadbe8b",
   "metadata": {},
   "outputs": [
    {
     "name": "stdout",
     "output_type": "stream",
     "text": [
      "\n",
      "Se ha elegido un k óptimo de 6.\n",
      "\n",
      "Se ha añadido la columna 'cluster' al DataFrame:\n"
     ]
    },
    {
     "data": {
      "application/vnd.microsoft.datawrangler.viewer.v0+json": {
       "columns": [
        {
         "name": "index",
         "rawType": "int64",
         "type": "integer"
        },
        {
         "name": "title",
         "rawType": "object",
         "type": "string"
        },
        {
         "name": "genres",
         "rawType": "object",
         "type": "string"
        },
        {
         "name": "cluster",
         "rawType": "int32",
         "type": "integer"
        }
       ],
       "ref": "8bea6df7-132c-4471-a1d0-febd3ab548a6",
       "rows": [
        [
         "0",
         "Berserk",
         "['Action', 'Adventure', 'Award Winning', 'Drama', 'Fantasy', 'Horror', 'Supernatural']",
         "0"
        ],
        [
         "1",
         "One Piece",
         "['Action', 'Adventure', 'Fantasy']",
         "0"
        ],
        [
         "2",
         "JoJo no Kimyou na Bouken Part 7: Steel Ball Run",
         "['Action', 'Adventure', 'Mystery', 'Supernatural']",
         "0"
        ],
        [
         "3",
         "Oyasumi Punpun",
         "['Drama', 'Slice of Life']",
         "0"
        ],
        [
         "4",
         "Fullmetal Alchemist",
         "['Action', 'Adventure', 'Award Winning', 'Drama', 'Fantasy']",
         "0"
        ]
       ],
       "shape": {
        "columns": 3,
        "rows": 5
       }
      },
      "text/html": [
       "<div>\n",
       "<style scoped>\n",
       "    .dataframe tbody tr th:only-of-type {\n",
       "        vertical-align: middle;\n",
       "    }\n",
       "\n",
       "    .dataframe tbody tr th {\n",
       "        vertical-align: top;\n",
       "    }\n",
       "\n",
       "    .dataframe thead th {\n",
       "        text-align: right;\n",
       "    }\n",
       "</style>\n",
       "<table border=\"1\" class=\"dataframe\">\n",
       "  <thead>\n",
       "    <tr style=\"text-align: right;\">\n",
       "      <th></th>\n",
       "      <th>title</th>\n",
       "      <th>genres</th>\n",
       "      <th>cluster</th>\n",
       "    </tr>\n",
       "  </thead>\n",
       "  <tbody>\n",
       "    <tr>\n",
       "      <th>0</th>\n",
       "      <td>Berserk</td>\n",
       "      <td>['Action', 'Adventure', 'Award Winning', 'Dram...</td>\n",
       "      <td>0</td>\n",
       "    </tr>\n",
       "    <tr>\n",
       "      <th>1</th>\n",
       "      <td>One Piece</td>\n",
       "      <td>['Action', 'Adventure', 'Fantasy']</td>\n",
       "      <td>0</td>\n",
       "    </tr>\n",
       "    <tr>\n",
       "      <th>2</th>\n",
       "      <td>JoJo no Kimyou na Bouken Part 7: Steel Ball Run</td>\n",
       "      <td>['Action', 'Adventure', 'Mystery', 'Supernatur...</td>\n",
       "      <td>0</td>\n",
       "    </tr>\n",
       "    <tr>\n",
       "      <th>3</th>\n",
       "      <td>Oyasumi Punpun</td>\n",
       "      <td>['Drama', 'Slice of Life']</td>\n",
       "      <td>0</td>\n",
       "    </tr>\n",
       "    <tr>\n",
       "      <th>4</th>\n",
       "      <td>Fullmetal Alchemist</td>\n",
       "      <td>['Action', 'Adventure', 'Award Winning', 'Dram...</td>\n",
       "      <td>0</td>\n",
       "    </tr>\n",
       "  </tbody>\n",
       "</table>\n",
       "</div>"
      ],
      "text/plain": [
       "                                             title  \\\n",
       "0                                          Berserk   \n",
       "1                                        One Piece   \n",
       "2  JoJo no Kimyou na Bouken Part 7: Steel Ball Run   \n",
       "3                                   Oyasumi Punpun   \n",
       "4                              Fullmetal Alchemist   \n",
       "\n",
       "                                              genres  cluster  \n",
       "0  ['Action', 'Adventure', 'Award Winning', 'Dram...        0  \n",
       "1                 ['Action', 'Adventure', 'Fantasy']        0  \n",
       "2  ['Action', 'Adventure', 'Mystery', 'Supernatur...        0  \n",
       "3                         ['Drama', 'Slice of Life']        0  \n",
       "4  ['Action', 'Adventure', 'Award Winning', 'Dram...        0  "
      ]
     },
     "metadata": {},
     "output_type": "display_data"
    }
   ],
   "source": [
    "# --- Aplicando K-Means y Analizando Clusters ---\n",
    "k_optimo = 6\n",
    "print(f\"\\nSe ha elegido un k óptimo de {k_optimo}.\")\n",
    "\n",
    "kmeans = KMeans(n_clusters = k_optimo, n_init = 'auto', random_state = 42)\n",
    "kmeans.fit(tfidf_matrix)\n",
    "\n",
    "# Asignar los clusteres a el dataframe original\n",
    "df['cluster'] = kmeans.labels_ #.labels_ nos da un array con la etiqueta del cluster para cada manga.\n",
    "print(f\"\\nSe ha asignado cada manga a uno de los {k_optimo} clusters.\")\n",
    "\n",
    "# --- Inspección de los Clusters ---\n",
    "for i in range(k_optimo):\n",
    "    print(f\"\\n===== Top 5 Mangas Populares en Cluster {i} =====\")\n",
    "    cluster_mangas = df[df['cluster'] == i]\n",
    "    display(cluster_mangas.sort_values('members', ascending=False)[['title', 'genres', 'score']].head())\n"
   ]
  },
  {
   "cell_type": "code",
   "execution_count": null,
   "id": "111052d9",
   "metadata": {},
   "outputs": [
    {
     "name": "stdout",
     "output_type": "stream",
     "text": [
      "Hemos creado una muestra de 2000 mangas para entrenar el autoencoder.\n",
      "Forma de los datos de entrenamiento: (2000, 20000)\n"
     ]
    }
   ],
   "source": [
    "#--------------------------------------------------------------------#\n",
    "# Analisis Avanzado 2: Embeddings con Autoencoder (tensorflow/Keras) #\n",
    "#--------------------------------------------------------------------#\n",
    "\n",
    "print(\"\\n\\n===== Análisis Avanzado: Embeddings con Autoencoder =====\")\n",
    "# --- Preparación de Datos de Muestra ---\n",
    "# Trabajar con una muestra para evitar problemas de memoria\n",
    "n_muestras = 20000\n",
    "# Usars muestra aleatoria de índices de nuestra matriz TF-IDF\n",
    "indices_muestra = np.random.choice(tfidf_matrix.shape[0], n_muestras, replace=False)\n",
    "# Crear una sub-matriz dispersa con la muestra\n",
    "tfidf_matrix_muestra = tfidf_matrix[indices_muestra]\n",
    "\n",
    "# Convertimos la muestra a una matriz densa, que usaremos para entrenar\n",
    "tfidf_matrix_muestra_densa = tfidf_matrix_muestra.toarray() # .toarray() convierte la matriz dispersa en una matriz numpy normal.\n",
    "\n",
    "print(f\"--- Creamos una muestra de {n_muestras} mangas para entrenar el autoencoder. ---\")\n",
    "print(f\"--- Forma de los datos de entrenamiento: {tfidf_matrix_muestra_densa.shape} ---\")"
   ]
  },
  {
   "cell_type": "code",
   "execution_count": null,
   "id": "0e22e809",
   "metadata": {},
   "outputs": [
    {
     "name": "stdout",
     "output_type": "stream",
     "text": [
      "\n",
      "===== Arquitectura del Autoencoder =====\n"
     ]
    },
    {
     "data": {
      "text/html": [
       "<pre style=\"white-space:pre;overflow-x:auto;line-height:normal;font-family:Menlo,'DejaVu Sans Mono',consolas,'Courier New',monospace\"><span style=\"font-weight: bold\">Model: \"Autoencoder\"</span>\n",
       "</pre>\n"
      ],
      "text/plain": [
       "\u001b[1mModel: \"Autoencoder\"\u001b[0m\n"
      ]
     },
     "metadata": {},
     "output_type": "display_data"
    },
    {
     "data": {
      "text/html": [
       "<pre style=\"white-space:pre;overflow-x:auto;line-height:normal;font-family:Menlo,'DejaVu Sans Mono',consolas,'Courier New',monospace\">┏━━━━━━━━━━━━━━━━━━━━━━━━━━━━━━━━━┳━━━━━━━━━━━━━━━━━━━━━━━━┳━━━━━━━━━━━━━━━┓\n",
       "┃<span style=\"font-weight: bold\"> Layer (type)                    </span>┃<span style=\"font-weight: bold\"> Output Shape           </span>┃<span style=\"font-weight: bold\">       Param # </span>┃\n",
       "┡━━━━━━━━━━━━━━━━━━━━━━━━━━━━━━━━━╇━━━━━━━━━━━━━━━━━━━━━━━━╇━━━━━━━━━━━━━━━┩\n",
       "│ Input_Layer (<span style=\"color: #0087ff; text-decoration-color: #0087ff\">InputLayer</span>)        │ (<span style=\"color: #00d7ff; text-decoration-color: #00d7ff\">None</span>, <span style=\"color: #00af00; text-decoration-color: #00af00\">20000</span>)          │             <span style=\"color: #00af00; text-decoration-color: #00af00\">0</span> │\n",
       "├─────────────────────────────────┼────────────────────────┼───────────────┤\n",
       "│ Encoder_Layer (<span style=\"color: #0087ff; text-decoration-color: #0087ff\">Dense</span>)           │ (<span style=\"color: #00d7ff; text-decoration-color: #00d7ff\">None</span>, <span style=\"color: #00af00; text-decoration-color: #00af00\">128</span>)            │     <span style=\"color: #00af00; text-decoration-color: #00af00\">2,560,128</span> │\n",
       "├─────────────────────────────────┼────────────────────────┼───────────────┤\n",
       "│ Decoder_layer (<span style=\"color: #0087ff; text-decoration-color: #0087ff\">Dense</span>)           │ (<span style=\"color: #00d7ff; text-decoration-color: #00d7ff\">None</span>, <span style=\"color: #00af00; text-decoration-color: #00af00\">20000</span>)          │     <span style=\"color: #00af00; text-decoration-color: #00af00\">2,580,000</span> │\n",
       "└─────────────────────────────────┴────────────────────────┴───────────────┘\n",
       "</pre>\n"
      ],
      "text/plain": [
       "┏━━━━━━━━━━━━━━━━━━━━━━━━━━━━━━━━━┳━━━━━━━━━━━━━━━━━━━━━━━━┳━━━━━━━━━━━━━━━┓\n",
       "┃\u001b[1m \u001b[0m\u001b[1mLayer (type)                   \u001b[0m\u001b[1m \u001b[0m┃\u001b[1m \u001b[0m\u001b[1mOutput Shape          \u001b[0m\u001b[1m \u001b[0m┃\u001b[1m \u001b[0m\u001b[1m      Param #\u001b[0m\u001b[1m \u001b[0m┃\n",
       "┡━━━━━━━━━━━━━━━━━━━━━━━━━━━━━━━━━╇━━━━━━━━━━━━━━━━━━━━━━━━╇━━━━━━━━━━━━━━━┩\n",
       "│ Input_Layer (\u001b[38;5;33mInputLayer\u001b[0m)        │ (\u001b[38;5;45mNone\u001b[0m, \u001b[38;5;34m20000\u001b[0m)          │             \u001b[38;5;34m0\u001b[0m │\n",
       "├─────────────────────────────────┼────────────────────────┼───────────────┤\n",
       "│ Encoder_Layer (\u001b[38;5;33mDense\u001b[0m)           │ (\u001b[38;5;45mNone\u001b[0m, \u001b[38;5;34m128\u001b[0m)            │     \u001b[38;5;34m2,560,128\u001b[0m │\n",
       "├─────────────────────────────────┼────────────────────────┼───────────────┤\n",
       "│ Decoder_layer (\u001b[38;5;33mDense\u001b[0m)           │ (\u001b[38;5;45mNone\u001b[0m, \u001b[38;5;34m20000\u001b[0m)          │     \u001b[38;5;34m2,580,000\u001b[0m │\n",
       "└─────────────────────────────────┴────────────────────────┴───────────────┘\n"
      ]
     },
     "metadata": {},
     "output_type": "display_data"
    },
    {
     "data": {
      "text/html": [
       "<pre style=\"white-space:pre;overflow-x:auto;line-height:normal;font-family:Menlo,'DejaVu Sans Mono',consolas,'Courier New',monospace\"><span style=\"font-weight: bold\"> Total params: </span><span style=\"color: #00af00; text-decoration-color: #00af00\">5,140,128</span> (19.61 MB)\n",
       "</pre>\n"
      ],
      "text/plain": [
       "\u001b[1m Total params: \u001b[0m\u001b[38;5;34m5,140,128\u001b[0m (19.61 MB)\n"
      ]
     },
     "metadata": {},
     "output_type": "display_data"
    },
    {
     "data": {
      "text/html": [
       "<pre style=\"white-space:pre;overflow-x:auto;line-height:normal;font-family:Menlo,'DejaVu Sans Mono',consolas,'Courier New',monospace\"><span style=\"font-weight: bold\"> Trainable params: </span><span style=\"color: #00af00; text-decoration-color: #00af00\">5,140,128</span> (19.61 MB)\n",
       "</pre>\n"
      ],
      "text/plain": [
       "\u001b[1m Trainable params: \u001b[0m\u001b[38;5;34m5,140,128\u001b[0m (19.61 MB)\n"
      ]
     },
     "metadata": {},
     "output_type": "display_data"
    },
    {
     "data": {
      "text/html": [
       "<pre style=\"white-space:pre;overflow-x:auto;line-height:normal;font-family:Menlo,'DejaVu Sans Mono',consolas,'Courier New',monospace\"><span style=\"font-weight: bold\"> Non-trainable params: </span><span style=\"color: #00af00; text-decoration-color: #00af00\">0</span> (0.00 B)\n",
       "</pre>\n"
      ],
      "text/plain": [
       "\u001b[1m Non-trainable params: \u001b[0m\u001b[38;5;34m0\u001b[0m (0.00 B)\n"
      ]
     },
     "metadata": {},
     "output_type": "display_data"
    }
   ],
   "source": [
    "# --- Construcción del Autoencoder ---\n",
    "input_dim = tfidf_matrix_muestra_densa.shape[1] # Dimensión de entrada: es el número de características de nuestros vectores TF-IDF\n",
    "\n",
    "encoding_dim = 128 # Dimensión del embedding: este es un hiperparámetro.\n",
    "\n",
    "# 1. Capa se entrada (input layer) define la forma de los datos que recibe la red.\n",
    "input_layer = keras.Input(shape=(input_dim,), name='Input_Layer')\n",
    "# 2. Encoder capa que comprime la entrada en un espacio de menor dimension (embedding)\n",
    "encoder_layer = layers.Dense(encoding_dim, activation='relu', name='Encoder_Layer')(input_layer) # activacion relu estandar y efectiva\n",
    "# 3. Decoder capa densa que intenta reconstruir la entrada original\n",
    "decoder_layer = layers.Dense(input_dim, activation='sigmoid', name='Decoder_layer')(encoder_layer) # activacion sigmoid' es buena aquí porque los valores de TF-IDF están entre 0 y 1\n",
    "\n",
    "\n",
    "# 4. Modelo Autoencoder une la entrada, el encoder y el decoder.\n",
    "autoencoder = keras.Model(inputs=input_layer, outputs=decoder_layer, name=\"Autoencoder\")\n",
    "# 5. Modelo Encoder (separado), este modelo solo nos servirá para extraer los embeddings una vez entrenado\n",
    "encoder_model = keras.Model(inputs=input_layer, outputs=encoder_layer, name=\"Encoder\")\n",
    "\n",
    "\n",
    "# 6. Compilar el Autoencoder\n",
    "autoencoder.compile(optimizer='adam', loss='mean_squared_error')# - optimizer='adam': El optimizador que ajustará los pesos de la red.\n",
    "                                                                # - loss='mean_squared_error': La función de pérdida que intentará minimizar (el error de reconstrucción).\n",
    "\n",
    "# Imprimimos un resumen de la arquitectura de nuestra red.\n",
    "print(\"\\n===== Arquitectura del Autoencoder =====\")\n",
    "autoencoder.summary()"
   ]
  },
  {
   "cell_type": "code",
   "execution_count": null,
   "id": "332573e3",
   "metadata": {},
   "outputs": [
    {
     "name": "stdout",
     "output_type": "stream",
     "text": [
      "\n",
      "===== Entrenando el Autoencoder (puede tardar varios minutos)... ====\n",
      "Epoch 1/20\n",
      "\u001b[1m8/8\u001b[0m \u001b[32m━━━━━━━━━━━━━━━━━━━━\u001b[0m\u001b[37m\u001b[0m \u001b[1m2s\u001b[0m 99ms/step - loss: 0.2494 - val_loss: 0.2480\n",
      "Epoch 2/20\n",
      "\u001b[1m8/8\u001b[0m \u001b[32m━━━━━━━━━━━━━━━━━━━━\u001b[0m\u001b[37m\u001b[0m \u001b[1m1s\u001b[0m 81ms/step - loss: 0.2475 - val_loss: 0.2457\n",
      "Epoch 3/20\n",
      "\u001b[1m8/8\u001b[0m \u001b[32m━━━━━━━━━━━━━━━━━━━━\u001b[0m\u001b[37m\u001b[0m \u001b[1m1s\u001b[0m 82ms/step - loss: 0.2449 - val_loss: 0.2415\n",
      "Epoch 4/20\n",
      "\u001b[1m8/8\u001b[0m \u001b[32m━━━━━━━━━━━━━━━━━━━━\u001b[0m\u001b[37m\u001b[0m \u001b[1m1s\u001b[0m 81ms/step - loss: 0.2397 - val_loss: 0.2323\n",
      "Epoch 5/20\n",
      "\u001b[1m8/8\u001b[0m \u001b[32m━━━━━━━━━━━━━━━━━━━━\u001b[0m\u001b[37m\u001b[0m \u001b[1m1s\u001b[0m 84ms/step - loss: 0.2280 - val_loss: 0.2129\n",
      "Epoch 6/20\n",
      "\u001b[1m8/8\u001b[0m \u001b[32m━━━━━━━━━━━━━━━━━━━━\u001b[0m\u001b[37m\u001b[0m \u001b[1m1s\u001b[0m 86ms/step - loss: 0.2042 - val_loss: 0.1794\n",
      "Epoch 7/20\n",
      "\u001b[1m8/8\u001b[0m \u001b[32m━━━━━━━━━━━━━━━━━━━━\u001b[0m\u001b[37m\u001b[0m \u001b[1m1s\u001b[0m 83ms/step - loss: 0.1652 - val_loss: 0.1337\n",
      "Epoch 8/20\n",
      "\u001b[1m8/8\u001b[0m \u001b[32m━━━━━━━━━━━━━━━━━━━━\u001b[0m\u001b[37m\u001b[0m \u001b[1m1s\u001b[0m 82ms/step - loss: 0.1165 - val_loss: 0.0865\n",
      "Epoch 9/20\n",
      "\u001b[1m8/8\u001b[0m \u001b[32m━━━━━━━━━━━━━━━━━━━━\u001b[0m\u001b[37m\u001b[0m \u001b[1m1s\u001b[0m 83ms/step - loss: 0.0700 - val_loss: 0.0505\n",
      "Epoch 10/20\n",
      "\u001b[1m8/8\u001b[0m \u001b[32m━━━━━━━━━━━━━━━━━━━━\u001b[0m\u001b[37m\u001b[0m \u001b[1m1s\u001b[0m 89ms/step - loss: 0.0379 - val_loss: 0.0290\n",
      "Epoch 11/20\n",
      "\u001b[1m8/8\u001b[0m \u001b[32m━━━━━━━━━━━━━━━━━━━━\u001b[0m\u001b[37m\u001b[0m \u001b[1m1s\u001b[0m 82ms/step - loss: 0.0207 - val_loss: 0.0178\n",
      "Epoch 12/20\n",
      "\u001b[1m8/8\u001b[0m \u001b[32m━━━━━━━━━━━━━━━━━━━━\u001b[0m\u001b[37m\u001b[0m \u001b[1m1s\u001b[0m 83ms/step - loss: 0.0123 - val_loss: 0.0121\n",
      "Epoch 13/20\n",
      "\u001b[1m8/8\u001b[0m \u001b[32m━━━━━━━━━━━━━━━━━━━━\u001b[0m\u001b[37m\u001b[0m \u001b[1m1s\u001b[0m 92ms/step - loss: 0.0081 - val_loss: 0.0089\n",
      "Epoch 14/20\n",
      "\u001b[1m8/8\u001b[0m \u001b[32m━━━━━━━━━━━━━━━━━━━━\u001b[0m\u001b[37m\u001b[0m \u001b[1m1s\u001b[0m 84ms/step - loss: 0.0057 - val_loss: 0.0070\n",
      "Epoch 15/20\n",
      "\u001b[1m8/8\u001b[0m \u001b[32m━━━━━━━━━━━━━━━━━━━━\u001b[0m\u001b[37m\u001b[0m \u001b[1m1s\u001b[0m 86ms/step - loss: 0.0045 - val_loss: 0.0058\n",
      "Epoch 16/20\n",
      "\u001b[1m8/8\u001b[0m \u001b[32m━━━━━━━━━━━━━━━━━━━━\u001b[0m\u001b[37m\u001b[0m \u001b[1m1s\u001b[0m 93ms/step - loss: 0.0037 - val_loss: 0.0050\n",
      "Epoch 17/20\n",
      "\u001b[1m8/8\u001b[0m \u001b[32m━━━━━━━━━━━━━━━━━━━━\u001b[0m\u001b[37m\u001b[0m \u001b[1m1s\u001b[0m 83ms/step - loss: 0.0030 - val_loss: 0.0043\n",
      "Epoch 18/20\n",
      "\u001b[1m8/8\u001b[0m \u001b[32m━━━━━━━━━━━━━━━━━━━━\u001b[0m\u001b[37m\u001b[0m \u001b[1m1s\u001b[0m 85ms/step - loss: 0.0027 - val_loss: 0.0039\n",
      "Epoch 19/20\n",
      "\u001b[1m8/8\u001b[0m \u001b[32m━━━━━━━━━━━━━━━━━━━━\u001b[0m\u001b[37m\u001b[0m \u001b[1m1s\u001b[0m 83ms/step - loss: 0.0023 - val_loss: 0.0035\n",
      "Epoch 20/20\n",
      "\u001b[1m8/8\u001b[0m \u001b[32m━━━━━━━━━━━━━━━━━━━━\u001b[0m\u001b[37m\u001b[0m \u001b[1m1s\u001b[0m 83ms/step - loss: 0.0021 - val_loss: 0.0031\n",
      "\n",
      "===== ¡Entrenamiento completado! =====\n"
     ]
    },
    {
     "data": {
      "image/png": "[encoded data removed]",
      "text/plain": [
       "<Figure size 640x480 with 1 Axes>"
      ]
     },
     "metadata": {},
     "output_type": "display_data"
    }
   ],
   "source": [
    "# --- Entrenamiento ---\n",
    "print(\"\\n===== Entrenando el Autoencoder... =====\")\n",
    "\n",
    "# Parámetros:\n",
    "history = autoencoder.fit(x=tfidf_matrix_muestra_densa, #Los datos de entrada (nuestra muestra densa).\n",
    "                          y=tfidf_matrix_muestra_densa, #Los datos de salida que queremos predecir (¡son los mismos que la entrada!).\n",
    "                          epochs= 20, #El número de veces que el modelo verá todos los datos de entrenamiento.\n",
    "                          batch_size= 256, #El número de muestras a procesar antes de actualizar los pesos.\n",
    "                          shuffle= True, #Mezcla los datos en cada época para un mejor aprendizaje.\n",
    "                          validation_split= 0.1 #Separa un 10% de los datos para validar el rendimiento en cada época.\n",
    "                          )\n",
    "\n",
    "print(\"===== ¡Entrenamiento completado! =====\")\n",
    "\n",
    "# Historial de pedida (aprendizaje del modelo)\n",
    "plt.plot(history.history['loss'], label='Pérdida de Entrenamiento')\n",
    "plt.plot(history.history['val_loss'], label='Pérdida de Validación')\n",
    "plt.legend()\n",
    "plt.show()"
   ]
  },
  {
   "cell_type": "code",
   "execution_count": null,
   "id": "a7242425",
   "metadata": {},
   "outputs": [
    {
     "name": "stdout",
     "output_type": "stream",
     "text": [
      "\n",
      "===== Generando embeddings para todo el catálogo usando el encoder entrenado... =====\n",
      "\u001b[1m2027/2027\u001b[0m \u001b[32m━━━━━━━━━━━━━━━━━━━━\u001b[0m\u001b[37m\u001b[0m \u001b[1m9s\u001b[0m 4ms/step\n",
      "===== ¡Nuevos embeddings generados con éxito! =====\n",
      "\n",
      "La forma de nuestra nueva matriz de embeddings es: (64833, 128)\n",
      "Nueva matriz de similitud basada en redes neuronales creada, forma: (64833, 64833)\n"
     ]
    }
   ],
   "source": [
    "# Etraccion y uso de los nuevos Embeddinngs\n",
    "# --- Generación de Embeddings ---\n",
    "\n",
    "# NOTA: Usamos la matriz TF-IDF completa y dispersa para la predicción,\n",
    "# Keras puede manejarla eficientemente en este paso.\n",
    "print(\"\\n===== Generando embeddings para todo el catálogo... =====\")\n",
    "manga_embeddings = encoder_model.predict(tfidf_matrix)\n",
    "\n",
    "print(f\"===== ¡Nuevos embeddings generados con éxito! =====\")\n",
    "print(f\"\\nLa forma de nuestra nueva matriz de embeddings es: {manga_embeddings.shape}\")\n",
    "\n",
    "#nueva matriz de similitud\n",
    "cosine_sim_neural = cosine_similarity(manga_embeddings, manga_embeddings)\n",
    "print(f\"Nueva matriz de similitud basada en redes neuronales creada, forma: {cosine_sim_neural.shape}\")"
   ]
  },
  {
   "cell_type": "code",
   "execution_count": null,
   "id": "ca33c27a",
   "metadata": {},
   "outputs": [
    {
     "name": "stdout",
     "output_type": "stream",
     "text": [
      "===== Comparando Modelos de Recomendación =====\n",
      "\n",
      "===== Recomendaciones para 'Berserk' (Modelo TF-IDF) =====\n"
     ]
    },
    {
     "data": {
      "application/vnd.microsoft.datawrangler.viewer.v0+json": {
       "columns": [
        {
         "name": "index",
         "rawType": "int64",
         "type": "integer"
        },
        {
         "name": "title",
         "rawType": "object",
         "type": "string"
        }
       ],
       "ref": "b8190ce5-6a2f-49ee-8fd2-a873f5ea7c2e",
       "rows": [
        [
         "19417",
         "Dead Word Puzzle"
        ],
        [
         "22848",
         "Shousetsu Berserk: Enryuu no Kishi"
        ],
        [
         "15399",
         "Doukyuusei no Macho-kun"
        ],
        [
         "29852",
         "Ultraman Tiga"
        ],
        [
         "15494",
         "Ourouden"
        ],
        [
         "60364",
         "Oshiete! Sabbath-san"
        ],
        [
         "30225",
         "Oresama no Ousama"
        ],
        [
         "11406",
         "Jinsei wa Barairo Da"
        ],
        [
         "15381",
         "Noa"
        ],
        [
         "4322",
         "Duranki"
        ]
       ],
       "shape": {
        "columns": 1,
        "rows": 10
       }
      },
      "text/plain": [
       "19417                      Dead Word Puzzle\n",
       "22848    Shousetsu Berserk: Enryuu no Kishi\n",
       "15399               Doukyuusei no Macho-kun\n",
       "29852                         Ultraman Tiga\n",
       "15494                              Ourouden\n",
       "60364                  Oshiete! Sabbath-san\n",
       "30225                     Oresama no Ousama\n",
       "11406                  Jinsei wa Barairo Da\n",
       "15381                                   Noa\n",
       "4322                                Duranki\n",
       "Name: title, dtype: object"
      ]
     },
     "metadata": {},
     "output_type": "display_data"
    },
    {
     "name": "stdout",
     "output_type": "stream",
     "text": [
      "\n",
      "===== Recomendaciones para 'Berserk' (Modelo Red Neuronal) =====\n"
     ]
    },
    {
     "data": {
      "application/vnd.microsoft.datawrangler.viewer.v0+json": {
       "columns": [
        {
         "name": "index",
         "rawType": "int64",
         "type": "integer"
        },
        {
         "name": "title",
         "rawType": "object",
         "type": "string"
        }
       ],
       "ref": "a5e9ca6d-1945-44ac-8f5f-a91caff083fa",
       "rows": [
        [
         "44559",
         "Divi-Dead"
        ],
        [
         "24341",
         "Scape-God"
        ],
        [
         "4278",
         "Yokubou Shounen"
        ],
        [
         "131",
         "Dr. Stone"
        ],
        [
         "26725",
         "Houkago no Seijo-san ga Toutoi dake ja Nai Koto wo Ore wa Shitteiru"
        ],
        [
         "7550",
         "Sankaku no Kyori wa Kagirinai Zero"
        ],
        [
         "13213",
         "Sexual Hunter Riot"
        ],
        [
         "22177",
         "Kokushi Musou!!"
        ],
        [
         "10301",
         "Love Trial"
        ],
        [
         "73",
         "Tensei shitara Slime Datta Ken"
        ]
       ],
       "shape": {
        "columns": 1,
        "rows": 10
       }
      },
      "text/plain": [
       "44559                                            Divi-Dead\n",
       "24341                                            Scape-God\n",
       "4278                                       Yokubou Shounen\n",
       "131                                              Dr. Stone\n",
       "26725    Houkago no Seijo-san ga Toutoi dake ja Nai Kot...\n",
       "7550                    Sankaku no Kyori wa Kagirinai Zero\n",
       "13213                                   Sexual Hunter Riot\n",
       "22177                                      Kokushi Musou!!\n",
       "10301                                           Love Trial\n",
       "73                          Tensei shitara Slime Datta Ken\n",
       "Name: title, dtype: object"
      ]
     },
     "metadata": {},
     "output_type": "display_data"
    },
    {
     "name": "stdout",
     "output_type": "stream",
     "text": [
      "\n",
      "-------------------------------------------------\n",
      "\n",
      "===== Recomendaciones para 'Neon Genesis Evangelion' (Modelo TF-IDF) =====\n"
     ]
    },
    {
     "data": {
      "application/vnd.microsoft.datawrangler.viewer.v0+json": {
       "columns": [
        {
         "name": "index",
         "rawType": "int64",
         "type": "integer"
        },
        {
         "name": "title",
         "rawType": "object",
         "type": "string"
        }
       ],
       "ref": "100d884b-72ae-48d0-9567-4c6124aeea93",
       "rows": [
        [
         "6393",
         "Evangelion: ANIMA"
        ],
        [
         "6629",
         "Neon Genesis Evangelion: Campus Apocalypse"
        ],
        [
         "9987",
         "Shinseiki Evangelion: Ikari Shinji Ikusei Keikaku"
        ],
        [
         "14108",
         "Godspeed"
        ],
        [
         "36919",
         "Hajimete no Gyakusatsu"
        ],
        [
         "31609",
         "Kaitou Tenshi Twin Angel"
        ],
        [
         "6059",
         "Death Edge"
        ],
        [
         "40574",
         "Spy no Ie"
        ],
        [
         "39181",
         "Mangaka Zankoku Monogatari"
        ],
        [
         "630",
         "Angel Beats!: Heaven's Door"
        ]
       ],
       "shape": {
        "columns": 1,
        "rows": 10
       }
      },
      "text/plain": [
       "6393                                     Evangelion: ANIMA\n",
       "6629            Neon Genesis Evangelion: Campus Apocalypse\n",
       "9987     Shinseiki Evangelion: Ikari Shinji Ikusei Keikaku\n",
       "14108                                             Godspeed\n",
       "36919                               Hajimete no Gyakusatsu\n",
       "31609                             Kaitou Tenshi Twin Angel\n",
       "6059                                            Death Edge\n",
       "40574                                            Spy no Ie\n",
       "39181                           Mangaka Zankoku Monogatari\n",
       "630                            Angel Beats!: Heaven's Door\n",
       "Name: title, dtype: object"
      ]
     },
     "metadata": {},
     "output_type": "display_data"
    },
    {
     "name": "stdout",
     "output_type": "stream",
     "text": [
      "\n",
      "===== Recomendaciones para 'Neon Genesis Evangelion' (Modelo Red Neuronal) =====\n"
     ]
    },
    {
     "data": {
      "application/vnd.microsoft.datawrangler.viewer.v0+json": {
       "columns": [
        {
         "name": "index",
         "rawType": "int64",
         "type": "integer"
        },
        {
         "name": "title",
         "rawType": "object",
         "type": "string"
        }
       ],
       "ref": "9c156c96-ddf7-4857-a21d-5c0b7aa464b4",
       "rows": [
        [
         "1576",
         "Maou ni Natta node, Dungeon Tsukutte Jingai Musume to Honobono suru"
        ],
        [
         "20728",
         "Puchi-D"
        ],
        [
         "30141",
         "Moto Keikoku no Bijo to Flag Crusher Outaishi: Tensei shitemo Shokei End ga Kaihi Dekimasen!?"
        ],
        [
         "34423",
         "Enzai"
        ],
        [
         "4620",
         "Maou ni Natta node, Dungeon Tsukutte Jingai Musume to Honobono suru"
        ],
        [
         "17977",
         "Nemurenu Yoru no Monogatari"
        ],
        [
         "38608",
         "Tsuki no Sabaku"
        ],
        [
         "37793",
         "Oshiete♡Oneesan"
        ],
        [
         "41075",
         "Kotonoha"
        ],
        [
         "19646",
         "If You Give Me Flowers, I'll Give You Myself"
        ]
       ],
       "shape": {
        "columns": 1,
        "rows": 10
       }
      },
      "text/plain": [
       "1576     Maou ni Natta node, Dungeon Tsukutte Jingai Mu...\n",
       "20728                                              Puchi-D\n",
       "30141    Moto Keikoku no Bijo to Flag Crusher Outaishi:...\n",
       "34423                                                Enzai\n",
       "4620     Maou ni Natta node, Dungeon Tsukutte Jingai Mu...\n",
       "17977                          Nemurenu Yoru no Monogatari\n",
       "38608                                      Tsuki no Sabaku\n",
       "37793                                      Oshiete♡Oneesan\n",
       "41075                                             Kotonoha\n",
       "19646         If You Give Me Flowers, I'll Give You Myself\n",
       "Name: title, dtype: object"
      ]
     },
     "metadata": {},
     "output_type": "display_data"
    }
   ],
   "source": [
    "# Uso de los Embeddings neuronales para la recomendacion\n",
    "# --- Nueva Función de Recomendación (Embeddings) ---\n",
    "def recomendar_con_embeddings(title, n_recommendations=10):\n",
    "    \"\"\"\n",
    "    Recibe un título de manga y devuelve los 'n' más similares\n",
    "    usando la similitud del coseno sobre los EMBEDDINGS neuronales.\n",
    "    \"\"\"\n",
    "    # Validar que el manga exista\n",
    "    if title not in indices:\n",
    "        return f\"El manga '{title}' no se encontró en el dataset.\"\n",
    "\n",
    "    # Obtener el índice del manga de entrada\n",
    "    idx = indices[title]\n",
    "\n",
    "    # Obtener el vector de embedding de ESE manga\n",
    "    manga_vector_embedding = manga_embeddings[idx].reshape(1, -1)\n",
    "\n",
    "    # Calcular la similitud del coseno de ese embedding contra TODOS los demás\n",
    "    # Esta es la parte eficiente en memoria\n",
    "    sim_scores = cosine_similarity(manga_vector_embedding, manga_embeddings)\n",
    "    sim_scores = list(enumerate(sim_scores[0]))\n",
    "\n",
    "    # Ordenar los mangas por similitud\n",
    "    sim_scores = sorted(sim_scores, key=lambda x: x[1], reverse=True)\n",
    "\n",
    "    # Obtener los 'n' mejores, excluyendo el primero (el propio manga)\n",
    "    sim_scores = sim_scores[1:n_recommendations+1]\n",
    "\n",
    "    # Obtener los índices y devolver los títulos\n",
    "    manga_indices = [i[0] for i in sim_scores]\n",
    "    return df['title'].iloc[manga_indices]\n",
    "\n",
    "#Comparacion de resultados\n",
    "\n",
    "print(\"===== Comparando Modelos de Recomendación =====\")\n",
    "\n",
    "print(\"\\n===== Recomendaciones para 'Berserk' (Modelo TF-IDF) =====\")\n",
    "display(recomendar_por_contenido('Berserk'))\n",
    "\n",
    "print(\"\\n===== Recomendaciones para 'Berserk' (Modelo Red Neuronal) =====\")\n",
    "display(recomendar_con_embeddings('Berserk'))\n",
    "\n",
    "print(\"\\n-------------------------------------------------\")\n",
    "\n",
    "print(\"\\n===== Recomendaciones para 'Neon Genesis Evangelion' (Modelo TF-IDF) =====\")\n",
    "display(recomendar_por_contenido('Neon Genesis Evangelion'))\n",
    "\n",
    "print(\"\\n===== Recomendaciones para 'Neon Genesis Evangelion' (Modelo Red Neuronal) =====\")\n",
    "display(recomendar_con_embeddings('Neon Genesis Evangelion'))"
   ]
  }
 ],
 "metadata": {
  "kernelspec": {
   "display_name": "ML_env",
   "language": "python",
   "name": "ml_env"
  },
  "language_info": {
   "codemirror_mode": {
    "name": "ipython",
    "version": 3
   },
   "file_extension": ".py",
   "mimetype": "text/x-python",
   "name": "python",
   "nbconvert_exporter": "python",
   "pygments_lexer": "ipython3",
   "version": "3.11.5"
  }
 },
 "nbformat": 4,
 "nbformat_minor": 5
}
